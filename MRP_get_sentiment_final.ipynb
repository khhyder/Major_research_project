{
 "cells": [
  {
   "cell_type": "code",
   "execution_count": 3,
   "metadata": {},
   "outputs": [
    {
     "name": "stdout",
     "output_type": "stream",
     "text": [
      "[nltk_data] Downloading package stopwords to\n",
      "[nltk_data]     C:\\Users\\Amara\\AppData\\Roaming\\nltk_data...\n",
      "[nltk_data]   Package stopwords is already up-to-date!\n",
      "[nltk_data] Downloading package wordnet to\n",
      "[nltk_data]     C:\\Users\\Amara\\AppData\\Roaming\\nltk_data...\n",
      "[nltk_data]   Package wordnet is already up-to-date!\n"
     ]
    }
   ],
   "source": [
    "import pandas as pd\n",
    "from nltk.corpus import stopwords\n",
    "from nltk.stem import WordNetLemmatizer\n",
    "import numpy as np\n",
    "import nltk\n",
    "wordnet_lemmatizer = WordNetLemmatizer()\n",
    "nltk.download('stopwords')\n",
    "nltk.download('wordnet')\n",
    "import os\n",
    "from bs4 import BeautifulSoup\n",
    "import re\n",
    "from nltk.tokenize import WordPunctTokenizer\n",
    "tkn = WordPunctTokenizer()\n"
   ]
  },
  {
   "cell_type": "code",
   "execution_count": 21,
   "metadata": {},
   "outputs": [],
   "source": [
    "from textblob import TextBlob"
   ]
  },
  {
   "cell_type": "code",
   "execution_count": 1,
   "metadata": {},
   "outputs": [],
   "source": [
    "pattern0 = r'@[A-Za-z0-9]+'\n",
    "pattern1 = r'https?://[A-Za-z0-9./]+'\n",
    "comb_pattern = r'|'.join((pattern0, pattern1))\n",
    "\n",
    "def text_cleaners(text):\n",
    "    sp = BeautifulSoup(text, 'lxml')\n",
    "    prsd = sp.get_text() #To parse the html content\n",
    "    striped = re.sub(comb_pattern, '', prsd) #To check and clean anything fall under combined pattern (comb_pattern)\n",
    "    try:\n",
    "        clean = striped.encode().decode(\"utf-8-sig\").replace(u\"\\ufffd\", \"?\")\n",
    "    except:\n",
    "        clean = stripped\n",
    "    letters_only = re.sub(\"[^a-zA-Z]\", \" \", clean)\n",
    "    replace_rt = letters_only.replace('RT','')\n",
    "    lower_case = replace_rt.lower()\n",
    "    # The 9th line of this function created unnecessay white spaces\n",
    "    # To remove these white spaces we tokenize and joined tokens \n",
    "    word_list = tkn.tokenize(lower_case)\n",
    "    return (\" \".join(word_list)).strip()"
   ]
  },
  {
   "cell_type": "code",
   "execution_count": 4,
   "metadata": {},
   "outputs": [
    {
     "data": {
      "text/plain": [
       "'C:\\\\Users\\\\Amara\\\\0_MRP'"
      ]
     },
     "execution_count": 4,
     "metadata": {},
     "output_type": "execute_result"
    }
   ],
   "source": [
    "#Check Current working directory\n",
    "cwd = os.getcwd()\n",
    "cwd"
   ]
  },
  {
   "cell_type": "code",
   "execution_count": 5,
   "metadata": {},
   "outputs": [],
   "source": [
    "#change the directory\n",
    "os.chdir(\"C:\\\\#Study\\\\2. Ryerson_all\\\\THE MRP\\\\Dataset\\\\test_pad\")"
   ]
  },
  {
   "cell_type": "code",
   "execution_count": 6,
   "metadata": {},
   "outputs": [],
   "source": [
    "#Read canadian tire tweets csv file\n",
    "df_ct = pd.read_csv(\"can_tire_all_final.csv\", encoding=\"latin-1\")"
   ]
  },
  {
   "cell_type": "code",
   "execution_count": 33,
   "metadata": {},
   "outputs": [
    {
     "data": {
      "text/html": [
       "<div>\n",
       "<style scoped>\n",
       "    .dataframe tbody tr th:only-of-type {\n",
       "        vertical-align: middle;\n",
       "    }\n",
       "\n",
       "    .dataframe tbody tr th {\n",
       "        vertical-align: top;\n",
       "    }\n",
       "\n",
       "    .dataframe thead th {\n",
       "        text-align: right;\n",
       "    }\n",
       "</style>\n",
       "<table border=\"1\" class=\"dataframe\">\n",
       "  <thead>\n",
       "    <tr style=\"text-align: right;\">\n",
       "      <th></th>\n",
       "      <th>text</th>\n",
       "      <th>favoriteCount</th>\n",
       "      <th>replyToSN</th>\n",
       "      <th>created</th>\n",
       "      <th>replyToSID</th>\n",
       "      <th>statusSource</th>\n",
       "      <th>screenName</th>\n",
       "      <th>retweetCount</th>\n",
       "      <th>isRetweet</th>\n",
       "      <th>retweeted</th>\n",
       "      <th>cleaned_text</th>\n",
       "      <th>blobw</th>\n",
       "      <th>sentiment</th>\n",
       "      <th>Polarity</th>\n",
       "      <th>Subjectivity</th>\n",
       "      <th>Sentiment_class</th>\n",
       "    </tr>\n",
       "  </thead>\n",
       "  <tbody>\n",
       "    <tr>\n",
       "      <th>0</th>\n",
       "      <td>RT @CanadianTire: Wherever you are in the gala...</td>\n",
       "      <td>0</td>\n",
       "      <td>NaN</td>\n",
       "      <td>5/8/2018 3:48</td>\n",
       "      <td>NaN</td>\n",
       "      <td>&lt;a href=\"https://mobile.twitter.com\" rel=\"nofo...</td>\n",
       "      <td>Chris31Austin</td>\n",
       "      <td>34</td>\n",
       "      <td>True</td>\n",
       "      <td>False</td>\n",
       "      <td>wherever you are in the galaxy maythe thbewithyou</td>\n",
       "      <td>(w, h, e, r, e, v, e, r,  , y, o, u,  , a, r, ...</td>\n",
       "      <td>(0.0, 0.0)</td>\n",
       "      <td>0.0</td>\n",
       "      <td>0.0</td>\n",
       "      <td>Neutral</td>\n",
       "    </tr>\n",
       "    <tr>\n",
       "      <th>1</th>\n",
       "      <td>RT @cmcdavid97: Were all standing behind you ...</td>\n",
       "      <td>0</td>\n",
       "      <td>NaN</td>\n",
       "      <td>5/8/2018 3:38</td>\n",
       "      <td>NaN</td>\n",
       "      <td>&lt;a href=\"http://twitter.com/download/iphone\" r...</td>\n",
       "      <td>LucasBuzzno</td>\n",
       "      <td>182</td>\n",
       "      <td>True</td>\n",
       "      <td>False</td>\n",
       "      <td>we re all standing behind you weallplayforcanada</td>\n",
       "      <td>(w, e,  , r, e,  , a, l, l,  , s, t, a, n, d, ...</td>\n",
       "      <td>(-0.4, 0.7)</td>\n",
       "      <td>-0.4</td>\n",
       "      <td>0.7</td>\n",
       "      <td>Negative</td>\n",
       "    </tr>\n",
       "  </tbody>\n",
       "</table>\n",
       "</div>"
      ],
      "text/plain": [
       "                                                text  favoriteCount replyToSN  \\\n",
       "0  RT @CanadianTire: Wherever you are in the gala...              0       NaN   \n",
       "1  RT @cmcdavid97: Were all standing behind you ...              0       NaN   \n",
       "\n",
       "         created  replyToSID  \\\n",
       "0  5/8/2018 3:48         NaN   \n",
       "1  5/8/2018 3:38         NaN   \n",
       "\n",
       "                                        statusSource     screenName  \\\n",
       "0  <a href=\"https://mobile.twitter.com\" rel=\"nofo...  Chris31Austin   \n",
       "1  <a href=\"http://twitter.com/download/iphone\" r...    LucasBuzzno   \n",
       "\n",
       "   retweetCount  isRetweet  retweeted  \\\n",
       "0            34       True      False   \n",
       "1           182       True      False   \n",
       "\n",
       "                                        cleaned_text  \\\n",
       "0  wherever you are in the galaxy maythe thbewithyou   \n",
       "1   we re all standing behind you weallplayforcanada   \n",
       "\n",
       "                                               blobw    sentiment  Polarity  \\\n",
       "0  (w, h, e, r, e, v, e, r,  , y, o, u,  , a, r, ...   (0.0, 0.0)       0.0   \n",
       "1  (w, e,  , r, e,  , a, l, l,  , s, t, a, n, d, ...  (-0.4, 0.7)      -0.4   \n",
       "\n",
       "   Subjectivity Sentiment_class  \n",
       "0           0.0         Neutral  \n",
       "1           0.7        Negative  "
      ]
     },
     "execution_count": 33,
     "metadata": {},
     "output_type": "execute_result"
    }
   ],
   "source": [
    "#check the loaded file\n",
    "df_ct.head(2)"
   ]
  },
  {
   "cell_type": "code",
   "execution_count": 15,
   "metadata": {},
   "outputs": [
    {
     "data": {
      "text/plain": [
       "False    6627\n",
       "Name: isDuplicated, dtype: int64"
      ]
     },
     "execution_count": 15,
     "metadata": {},
     "output_type": "execute_result"
    }
   ],
   "source": [
    "df_ct.isDuplicated.value_counts()"
   ]
  },
  {
   "cell_type": "code",
   "execution_count": 17,
   "metadata": {},
   "outputs": [],
   "source": [
    "#Remove unnecessary columns\n",
    "df_ct.drop(['Unnamed: 0','longitude','favorited','truncated','latitude','id','isDuplicated','replyToUID','Unnamed: 18'],axis=1,inplace=True) "
   ]
  },
  {
   "cell_type": "code",
   "execution_count": 19,
   "metadata": {},
   "outputs": [
    {
     "name": "stderr",
     "output_type": "stream",
     "text": [
      "C:\\Users\\Amara\\Anaconda2\\envs\\py36\\lib\\site-packages\\bs4\\__init__.py:282: UserWarning: \"https://t.co/tMYuro525I\" looks like a URL. Beautiful Soup is not an HTTP client. You should probably use an HTTP client like requests to get the document behind the URL, and feed that document to Beautiful Soup.\n",
      "  ' that document to Beautiful Soup.' % decoded_markup\n"
     ]
    }
   ],
   "source": [
    "#Apply text cleaning function to data frame\n",
    "df_ct['cleaned_text'] = df_ct['text'].apply(lambda x : text_cleaners(x))"
   ]
  },
  {
   "cell_type": "code",
   "execution_count": 22,
   "metadata": {},
   "outputs": [],
   "source": [
    "df_ct['blobw'] = df_ct['cleaned_text'].apply(TextBlob)"
   ]
  },
  {
   "cell_type": "code",
   "execution_count": 23,
   "metadata": {},
   "outputs": [],
   "source": [
    "#Create a function to calculate sentiment and subjectivity\n",
    "def sentiment_calc(text):\n",
    "    try:\n",
    "        return TextBlob(text).sentiment\n",
    "    except:\n",
    "        return None\n"
   ]
  },
  {
   "cell_type": "code",
   "execution_count": 25,
   "metadata": {},
   "outputs": [],
   "source": [
    "df_ct['sentiment'] = df_ct['cleaned_text'].apply(sentiment_calc)"
   ]
  },
  {
   "cell_type": "code",
   "execution_count": 26,
   "metadata": {},
   "outputs": [],
   "source": [
    "#Create a function to calculate polarity\n",
    "def polarity_calc(text):\n",
    "    try:\n",
    "        return TextBlob(text).polarity\n",
    "    except:\n",
    "        return None"
   ]
  },
  {
   "cell_type": "code",
   "execution_count": 27,
   "metadata": {},
   "outputs": [],
   "source": [
    "def subjectivity_calc(text):\n",
    "    try:\n",
    "        return TextBlob(text).subjectivity\n",
    "    except:\n",
    "        return None"
   ]
  },
  {
   "cell_type": "code",
   "execution_count": 30,
   "metadata": {},
   "outputs": [],
   "source": [
    "df_ct['Polarity'] = df_ct['cleaned_text'].apply(polarity_calc)\n",
    "df_ct['Subjectivity'] = df_ct['cleaned_text'].apply(subjectivity_calc)"
   ]
  },
  {
   "cell_type": "code",
   "execution_count": 31,
   "metadata": {},
   "outputs": [],
   "source": [
    "#Create a funtion to assign sentiment measures as per polarity\n",
    "def conditions(s):\n",
    "    if (s['Polarity'] > 0):\n",
    "        return \"Positive\"\n",
    "    elif (s['Polarity']<0):\n",
    "        return \"Negative\"\n",
    "    else:\n",
    "        return \"Neutral\""
   ]
  },
  {
   "cell_type": "code",
   "execution_count": 32,
   "metadata": {},
   "outputs": [],
   "source": [
    "df_ct['Sentiment_class'] = df_ct.apply(conditions, axis=1)"
   ]
  },
  {
   "cell_type": "code",
   "execution_count": 34,
   "metadata": {},
   "outputs": [],
   "source": [
    "#Export Canadian Tire file to local machine\n",
    "df_ct.to_csv(\"can_tire_senti_score.csv\", encoding='utf-8', index=False)"
   ]
  },
  {
   "cell_type": "markdown",
   "metadata": {},
   "source": [
    "#We have following Re-usable functions\n",
    "#text_cleaners, sentiment_calc, polarity_calc, subjectivity_calc, conditions"
   ]
  },
  {
   "cell_type": "code",
   "execution_count": 43,
   "metadata": {},
   "outputs": [],
   "source": [
    "# Get sentiment for walmart tweet\n",
    "\n",
    "#Read walmart tweets csv file\n",
    "df_wm = pd.read_csv(\"walmart_all.csv\", encoding=\"latin-1\")"
   ]
  },
  {
   "cell_type": "code",
   "execution_count": 44,
   "metadata": {},
   "outputs": [
    {
     "data": {
      "text/html": [
       "<div>\n",
       "<style scoped>\n",
       "    .dataframe tbody tr th:only-of-type {\n",
       "        vertical-align: middle;\n",
       "    }\n",
       "\n",
       "    .dataframe tbody tr th {\n",
       "        vertical-align: top;\n",
       "    }\n",
       "\n",
       "    .dataframe thead th {\n",
       "        text-align: right;\n",
       "    }\n",
       "</style>\n",
       "<table border=\"1\" class=\"dataframe\">\n",
       "  <thead>\n",
       "    <tr style=\"text-align: right;\">\n",
       "      <th></th>\n",
       "      <th>Unnamed: 0</th>\n",
       "      <th>text</th>\n",
       "      <th>favorited</th>\n",
       "      <th>favoriteCount</th>\n",
       "      <th>replyToSN</th>\n",
       "      <th>created</th>\n",
       "      <th>truncated</th>\n",
       "      <th>replyToSID</th>\n",
       "      <th>id</th>\n",
       "      <th>replyToUID</th>\n",
       "      <th>statusSource</th>\n",
       "      <th>screenName</th>\n",
       "      <th>retweetCount</th>\n",
       "      <th>isRetweet</th>\n",
       "      <th>retweeted</th>\n",
       "      <th>longitude</th>\n",
       "      <th>latitude</th>\n",
       "      <th>isDuplicated</th>\n",
       "    </tr>\n",
       "  </thead>\n",
       "  <tbody>\n",
       "    <tr>\n",
       "      <th>0</th>\n",
       "      <td>1</td>\n",
       "      <td>RT @WalmartCanada: @HOSIXTAPE Hello. The BTS a...</td>\n",
       "      <td>False</td>\n",
       "      <td>0</td>\n",
       "      <td>NaN</td>\n",
       "      <td>5/8/2018 2:17</td>\n",
       "      <td>False</td>\n",
       "      <td>NaN</td>\n",
       "      <td>9.940000e+17</td>\n",
       "      <td>NaN</td>\n",
       "      <td>&lt;a href=\"http://twitter.com/download/iphone\" r...</td>\n",
       "      <td>gr7jk9</td>\n",
       "      <td>234</td>\n",
       "      <td>True</td>\n",
       "      <td>False</td>\n",
       "      <td>NaN</td>\n",
       "      <td>NaN</td>\n",
       "      <td>False</td>\n",
       "    </tr>\n",
       "    <tr>\n",
       "      <th>1</th>\n",
       "      <td>2</td>\n",
       "      <td>RT @WalmartCanada: @HOSIXTAPE Hello. The BTS a...</td>\n",
       "      <td>False</td>\n",
       "      <td>0</td>\n",
       "      <td>NaN</td>\n",
       "      <td>5/8/2018 1:57</td>\n",
       "      <td>False</td>\n",
       "      <td>NaN</td>\n",
       "      <td>9.940000e+17</td>\n",
       "      <td>NaN</td>\n",
       "      <td>&lt;a href=\"http://twitter.com/download/iphone\" r...</td>\n",
       "      <td>flyingredpig218</td>\n",
       "      <td>234</td>\n",
       "      <td>True</td>\n",
       "      <td>False</td>\n",
       "      <td>NaN</td>\n",
       "      <td>NaN</td>\n",
       "      <td>False</td>\n",
       "    </tr>\n",
       "  </tbody>\n",
       "</table>\n",
       "</div>"
      ],
      "text/plain": [
       "   Unnamed: 0                                               text  favorited  \\\n",
       "0           1  RT @WalmartCanada: @HOSIXTAPE Hello. The BTS a...      False   \n",
       "1           2  RT @WalmartCanada: @HOSIXTAPE Hello. The BTS a...      False   \n",
       "\n",
       "   favoriteCount replyToSN        created  truncated  replyToSID  \\\n",
       "0              0       NaN  5/8/2018 2:17      False         NaN   \n",
       "1              0       NaN  5/8/2018 1:57      False         NaN   \n",
       "\n",
       "             id  replyToUID  \\\n",
       "0  9.940000e+17         NaN   \n",
       "1  9.940000e+17         NaN   \n",
       "\n",
       "                                        statusSource       screenName  \\\n",
       "0  <a href=\"http://twitter.com/download/iphone\" r...           gr7jk9   \n",
       "1  <a href=\"http://twitter.com/download/iphone\" r...  flyingredpig218   \n",
       "\n",
       "   retweetCount  isRetweet  retweeted  longitude  latitude  isDuplicated  \n",
       "0           234       True      False        NaN       NaN         False  \n",
       "1           234       True      False        NaN       NaN         False  "
      ]
     },
     "execution_count": 44,
     "metadata": {},
     "output_type": "execute_result"
    }
   ],
   "source": [
    "df_wm.head(2)"
   ]
  },
  {
   "cell_type": "code",
   "execution_count": 45,
   "metadata": {},
   "outputs": [],
   "source": [
    "#Remove unnecessary columns\n",
    "df_wm.drop(['Unnamed: 0','longitude','favorited','truncated','latitude','id','isDuplicated','replyToUID'],axis=1,inplace=True) \n"
   ]
  },
  {
   "cell_type": "code",
   "execution_count": 46,
   "metadata": {},
   "outputs": [],
   "source": [
    "df_wm['cleaned_text'] = df_wm['text'].apply(lambda x : text_cleaners(x))"
   ]
  },
  {
   "cell_type": "code",
   "execution_count": 47,
   "metadata": {},
   "outputs": [],
   "source": [
    "df_wm['blobw'] = df_wm['cleaned_text'].apply(TextBlob)"
   ]
  },
  {
   "cell_type": "code",
   "execution_count": 48,
   "metadata": {},
   "outputs": [],
   "source": [
    "df_wm['sentiment'] = df_wm['cleaned_text'].apply(sentiment_calc)"
   ]
  },
  {
   "cell_type": "code",
   "execution_count": 49,
   "metadata": {},
   "outputs": [],
   "source": [
    "df_wm['Polarity'] = df_wm['cleaned_text'].apply(polarity_calc)\n",
    "df_wm['Subjectivity'] = df_wm['cleaned_text'].apply(subjectivity_calc)"
   ]
  },
  {
   "cell_type": "code",
   "execution_count": 50,
   "metadata": {},
   "outputs": [],
   "source": [
    "df_wm['Sentiment_class'] = df_wm.apply(conditions, axis=1)"
   ]
  },
  {
   "cell_type": "code",
   "execution_count": 51,
   "metadata": {},
   "outputs": [],
   "source": [
    "#Export Canadian Tire file to local machine\n",
    "df_wm.to_csv(\"walmart_senti_score.csv\", encoding='utf-8', index=False)\n",
    "\n",
    "# Get sentiment for walmart tweet\n",
    "\n"
   ]
  },
  {
   "cell_type": "code",
   "execution_count": 52,
   "metadata": {},
   "outputs": [],
   "source": [
    "# Get sentiment for Loblaws tweet\n",
    "\n",
    "#Read loblaws tweets csv file\n",
    "df_ll = pd.read_csv(\"loblaws_all.csv\", encoding=\"latin-1\")"
   ]
  },
  {
   "cell_type": "code",
   "execution_count": 53,
   "metadata": {},
   "outputs": [],
   "source": [
    "#check the loaded file\n",
    "df_ll.head(2)\n",
    "\n",
    "df_ll.isDuplicated.value_counts()\n",
    "#Remove unnecessary columns\n",
    "df_ll.drop(['Unnamed: 0','longitude','favorited','truncated','latitude','id','isDuplicated','replyToUID'],axis=1,inplace=True) \n"
   ]
  },
  {
   "cell_type": "code",
   "execution_count": 56,
   "metadata": {},
   "outputs": [
    {
     "data": {
      "text/html": [
       "<div>\n",
       "<style scoped>\n",
       "    .dataframe tbody tr th:only-of-type {\n",
       "        vertical-align: middle;\n",
       "    }\n",
       "\n",
       "    .dataframe tbody tr th {\n",
       "        vertical-align: top;\n",
       "    }\n",
       "\n",
       "    .dataframe thead th {\n",
       "        text-align: right;\n",
       "    }\n",
       "</style>\n",
       "<table border=\"1\" class=\"dataframe\">\n",
       "  <thead>\n",
       "    <tr style=\"text-align: right;\">\n",
       "      <th></th>\n",
       "      <th>text</th>\n",
       "      <th>favoriteCount</th>\n",
       "      <th>replyToSN</th>\n",
       "      <th>created</th>\n",
       "      <th>replyToSID</th>\n",
       "      <th>statusSource</th>\n",
       "      <th>screenName</th>\n",
       "      <th>retweetCount</th>\n",
       "      <th>isRetweet</th>\n",
       "      <th>retweeted</th>\n",
       "      <th>cleaned_text</th>\n",
       "      <th>blobw</th>\n",
       "      <th>sentiment</th>\n",
       "      <th>Polarity</th>\n",
       "      <th>Subjectivity</th>\n",
       "      <th>Sentiment_class</th>\n",
       "    </tr>\n",
       "  </thead>\n",
       "  <tbody>\n",
       "    <tr>\n",
       "      <th>0</th>\n",
       "      <td>@matthewlmcauley @LoblawsON The symbols they u...</td>\n",
       "      <td>0</td>\n",
       "      <td>matthewlmcauley</td>\n",
       "      <td>5/8/2018 3:50</td>\n",
       "      <td>9.936900e+17</td>\n",
       "      <td>&lt;a href=\"http://twitter.com/download/iphone\" r...</td>\n",
       "      <td>KassandraSantos</td>\n",
       "      <td>0</td>\n",
       "      <td>False</td>\n",
       "      <td>False</td>\n",
       "      <td>the symbols they use aren t even clear lol i d...</td>\n",
       "      <td>(t, h, e,  , s, y, m, b, o, l, s,  , t, h, e, ...</td>\n",
       "      <td>(0.4666666666666666, 0.5277777777777778)</td>\n",
       "      <td>0.466667</td>\n",
       "      <td>0.527778</td>\n",
       "      <td>Positive</td>\n",
       "    </tr>\n",
       "    <tr>\n",
       "      <th>1</th>\n",
       "      <td>A female engineer goes to her kid's career day...</td>\n",
       "      <td>0</td>\n",
       "      <td>NaN</td>\n",
       "      <td>5/8/2018 3:36</td>\n",
       "      <td>NaN</td>\n",
       "      <td>&lt;a href=\"http://twitter.com/download/android\" ...</td>\n",
       "      <td>HutzMs</td>\n",
       "      <td>0</td>\n",
       "      <td>False</td>\n",
       "      <td>False</td>\n",
       "      <td>a female engineer goes to her kid s career day...</td>\n",
       "      <td>(a,  , f, e, m, a, l, e,  , e, n, g, i, n, e, ...</td>\n",
       "      <td>(0.1875, 0.4583333333333333)</td>\n",
       "      <td>0.187500</td>\n",
       "      <td>0.458333</td>\n",
       "      <td>Positive</td>\n",
       "    </tr>\n",
       "  </tbody>\n",
       "</table>\n",
       "</div>"
      ],
      "text/plain": [
       "                                                text  favoriteCount  \\\n",
       "0  @matthewlmcauley @LoblawsON The symbols they u...              0   \n",
       "1  A female engineer goes to her kid's career day...              0   \n",
       "\n",
       "         replyToSN        created    replyToSID  \\\n",
       "0  matthewlmcauley  5/8/2018 3:50  9.936900e+17   \n",
       "1              NaN  5/8/2018 3:36           NaN   \n",
       "\n",
       "                                        statusSource       screenName  \\\n",
       "0  <a href=\"http://twitter.com/download/iphone\" r...  KassandraSantos   \n",
       "1  <a href=\"http://twitter.com/download/android\" ...           HutzMs   \n",
       "\n",
       "   retweetCount  isRetweet  retweeted  \\\n",
       "0             0      False      False   \n",
       "1             0      False      False   \n",
       "\n",
       "                                        cleaned_text  \\\n",
       "0  the symbols they use aren t even clear lol i d...   \n",
       "1  a female engineer goes to her kid s career day...   \n",
       "\n",
       "                                               blobw  \\\n",
       "0  (t, h, e,  , s, y, m, b, o, l, s,  , t, h, e, ...   \n",
       "1  (a,  , f, e, m, a, l, e,  , e, n, g, i, n, e, ...   \n",
       "\n",
       "                                  sentiment  Polarity  Subjectivity  \\\n",
       "0  (0.4666666666666666, 0.5277777777777778)  0.466667      0.527778   \n",
       "1              (0.1875, 0.4583333333333333)  0.187500      0.458333   \n",
       "\n",
       "  Sentiment_class  \n",
       "0        Positive  \n",
       "1        Positive  "
      ]
     },
     "execution_count": 56,
     "metadata": {},
     "output_type": "execute_result"
    }
   ],
   "source": [
    "df_ll.head(2)"
   ]
  },
  {
   "cell_type": "code",
   "execution_count": 55,
   "metadata": {},
   "outputs": [
    {
     "name": "stderr",
     "output_type": "stream",
     "text": [
      "C:\\Users\\Amara\\Anaconda2\\envs\\py36\\lib\\site-packages\\bs4\\__init__.py:282: UserWarning: \"https://t.co/QJjeg2triC\" looks like a URL. Beautiful Soup is not an HTTP client. You should probably use an HTTP client like requests to get the document behind the URL, and feed that document to Beautiful Soup.\n",
      "  ' that document to Beautiful Soup.' % decoded_markup\n",
      "C:\\Users\\Amara\\Anaconda2\\envs\\py36\\lib\\site-packages\\bs4\\__init__.py:282: UserWarning: \"https://t.co/MR3fTbwEIA\" looks like a URL. Beautiful Soup is not an HTTP client. You should probably use an HTTP client like requests to get the document behind the URL, and feed that document to Beautiful Soup.\n",
      "  ' that document to Beautiful Soup.' % decoded_markup\n",
      "C:\\Users\\Amara\\Anaconda2\\envs\\py36\\lib\\site-packages\\bs4\\__init__.py:282: UserWarning: \"https://t.co/vsPGmmtKTP\" looks like a URL. Beautiful Soup is not an HTTP client. You should probably use an HTTP client like requests to get the document behind the URL, and feed that document to Beautiful Soup.\n",
      "  ' that document to Beautiful Soup.' % decoded_markup\n",
      "C:\\Users\\Amara\\Anaconda2\\envs\\py36\\lib\\site-packages\\bs4\\__init__.py:282: UserWarning: \"https://t.co/4VWc9c5uat\" looks like a URL. Beautiful Soup is not an HTTP client. You should probably use an HTTP client like requests to get the document behind the URL, and feed that document to Beautiful Soup.\n",
      "  ' that document to Beautiful Soup.' % decoded_markup\n",
      "C:\\Users\\Amara\\Anaconda2\\envs\\py36\\lib\\site-packages\\bs4\\__init__.py:282: UserWarning: \"https://t.co/MpWe7GZ0ly\" looks like a URL. Beautiful Soup is not an HTTP client. You should probably use an HTTP client like requests to get the document behind the URL, and feed that document to Beautiful Soup.\n",
      "  ' that document to Beautiful Soup.' % decoded_markup\n"
     ]
    }
   ],
   "source": [
    "\n",
    "df_ll['cleaned_text'] = df_ll['text'].apply(lambda x : text_cleaners(x))\n",
    "\n",
    "df_ll['blobw'] = df_ll['cleaned_text'].apply(TextBlob)\n",
    "\n",
    "df_ll['sentiment'] = df_ll['cleaned_text'].apply(sentiment_calc)\n",
    "\n",
    "\n",
    "df_ll['Polarity'] = df_ll['cleaned_text'].apply(polarity_calc)\n",
    "df_ll['Subjectivity'] = df_ll['cleaned_text'].apply(subjectivity_calc)\n",
    "\n",
    "\n",
    "df_ll['Sentiment_class'] = df_ll.apply(conditions, axis=1)\n",
    "\n",
    "#Export Canadian Tire file to local machine\n",
    "df_ll.to_csv(\"loblaws_senti_score.csv\", encoding='utf-8', index=False)\n",
    "\n"
   ]
  },
  {
   "cell_type": "code",
   "execution_count": 57,
   "metadata": {},
   "outputs": [],
   "source": [
    "# Get sentiment for Costco tweet\n",
    "\n",
    "#Read costco tweets csv file\n",
    "df_cs = pd.read_csv(\"costco_all.csv\", encoding=\"latin-1\")"
   ]
  },
  {
   "cell_type": "code",
   "execution_count": 64,
   "metadata": {},
   "outputs": [
    {
     "data": {
      "text/html": [
       "<div>\n",
       "<style scoped>\n",
       "    .dataframe tbody tr th:only-of-type {\n",
       "        vertical-align: middle;\n",
       "    }\n",
       "\n",
       "    .dataframe tbody tr th {\n",
       "        vertical-align: top;\n",
       "    }\n",
       "\n",
       "    .dataframe thead th {\n",
       "        text-align: right;\n",
       "    }\n",
       "</style>\n",
       "<table border=\"1\" class=\"dataframe\">\n",
       "  <thead>\n",
       "    <tr style=\"text-align: right;\">\n",
       "      <th></th>\n",
       "      <th>text</th>\n",
       "      <th>favoriteCount</th>\n",
       "      <th>replyToSN</th>\n",
       "      <th>created</th>\n",
       "      <th>replyToSID</th>\n",
       "      <th>statusSource</th>\n",
       "      <th>screenName</th>\n",
       "      <th>retweetCount</th>\n",
       "      <th>isRetweet</th>\n",
       "      <th>retweeted</th>\n",
       "      <th>cleaned_text</th>\n",
       "      <th>blobw</th>\n",
       "      <th>sentiment</th>\n",
       "      <th>Polarity</th>\n",
       "      <th>Subjectivity</th>\n",
       "    </tr>\n",
       "  </thead>\n",
       "  <tbody>\n",
       "    <tr>\n",
       "      <th>0</th>\n",
       "      <td>@gardein but I live in Canada &lt;ed&gt;&lt;U+00A0&gt;&lt;U+0...</td>\n",
       "      <td>0</td>\n",
       "      <td>gardein</td>\n",
       "      <td>2018-05-13 23:12:14</td>\n",
       "      <td>9.957750e+17</td>\n",
       "      <td>&lt;a href=\"http://mvilla.it/fenix\" rel=\"nofollow...</td>\n",
       "      <td>greazykitty</td>\n",
       "      <td>0</td>\n",
       "      <td>False</td>\n",
       "      <td>False</td>\n",
       "      <td>but i live in canada maybe you can make a dist...</td>\n",
       "      <td>(b, u, t,  , i,  , l, i, v, e,  , i, n,  , c, ...</td>\n",
       "      <td>(0.13636363636363635, 0.5)</td>\n",
       "      <td>0.136364</td>\n",
       "      <td>0.5</td>\n",
       "    </tr>\n",
       "    <tr>\n",
       "      <th>1</th>\n",
       "      <td>RT @CHEOhospital: #DYK that were celebrating ...</td>\n",
       "      <td>0</td>\n",
       "      <td>NaN</td>\n",
       "      <td>2018-05-13 21:38:46</td>\n",
       "      <td>NaN</td>\n",
       "      <td>&lt;a href=\"http://twitter.com/download/iphone\" r...</td>\n",
       "      <td>stephegan613</td>\n",
       "      <td>1</td>\n",
       "      <td>True</td>\n",
       "      <td>False</td>\n",
       "      <td>dyk that we re celebrating years of partnershi...</td>\n",
       "      <td>(d, y, k,  , t, h, a, t,  , w, e,  , r, e,  , ...</td>\n",
       "      <td>(0.5, 0.5)</td>\n",
       "      <td>0.500000</td>\n",
       "      <td>0.5</td>\n",
       "    </tr>\n",
       "  </tbody>\n",
       "</table>\n",
       "</div>"
      ],
      "text/plain": [
       "                                                text  favoriteCount replyToSN  \\\n",
       "0  @gardein but I live in Canada <ed><U+00A0><U+0...              0   gardein   \n",
       "1  RT @CHEOhospital: #DYK that were celebrating ...              0       NaN   \n",
       "\n",
       "               created    replyToSID  \\\n",
       "0  2018-05-13 23:12:14  9.957750e+17   \n",
       "1  2018-05-13 21:38:46           NaN   \n",
       "\n",
       "                                        statusSource    screenName  \\\n",
       "0  <a href=\"http://mvilla.it/fenix\" rel=\"nofollow...   greazykitty   \n",
       "1  <a href=\"http://twitter.com/download/iphone\" r...  stephegan613   \n",
       "\n",
       "   retweetCount  isRetweet  retweeted  \\\n",
       "0             0      False      False   \n",
       "1             1       True      False   \n",
       "\n",
       "                                        cleaned_text  \\\n",
       "0  but i live in canada maybe you can make a dist...   \n",
       "1  dyk that we re celebrating years of partnershi...   \n",
       "\n",
       "                                               blobw  \\\n",
       "0  (b, u, t,  , i,  , l, i, v, e,  , i, n,  , c, ...   \n",
       "1  (d, y, k,  , t, h, a, t,  , w, e,  , r, e,  , ...   \n",
       "\n",
       "                    sentiment  Polarity  Subjectivity  \n",
       "0  (0.13636363636363635, 0.5)  0.136364           0.5  \n",
       "1                  (0.5, 0.5)  0.500000           0.5  "
      ]
     },
     "execution_count": 64,
     "metadata": {},
     "output_type": "execute_result"
    }
   ],
   "source": [
    "#check the loaded file\n",
    "df_cs.head(2)"
   ]
  },
  {
   "cell_type": "code",
   "execution_count": 60,
   "metadata": {},
   "outputs": [],
   "source": [
    "df_cs.isDuplicated.value_counts()\n",
    "#Remove unnecessary columns\n",
    "df_cs.drop(['Unnamed: 0','longitude','favorited','truncated','latitude','id','isDuplicated','replyToUID'],axis=1,inplace=True) \n"
   ]
  },
  {
   "cell_type": "code",
   "execution_count": 61,
   "metadata": {},
   "outputs": [
    {
     "name": "stderr",
     "output_type": "stream",
     "text": [
      "C:\\Users\\Amara\\Anaconda2\\envs\\py36\\lib\\site-packages\\bs4\\__init__.py:282: UserWarning: \"https://t.co/tkLqMMu4ht\" looks like a URL. Beautiful Soup is not an HTTP client. You should probably use an HTTP client like requests to get the document behind the URL, and feed that document to Beautiful Soup.\n",
      "  ' that document to Beautiful Soup.' % decoded_markup\n",
      "C:\\Users\\Amara\\Anaconda2\\envs\\py36\\lib\\site-packages\\bs4\\__init__.py:282: UserWarning: \"https://t.co/wCn60XGHFy\" looks like a URL. Beautiful Soup is not an HTTP client. You should probably use an HTTP client like requests to get the document behind the URL, and feed that document to Beautiful Soup.\n",
      "  ' that document to Beautiful Soup.' % decoded_markup\n",
      "C:\\Users\\Amara\\Anaconda2\\envs\\py36\\lib\\site-packages\\bs4\\__init__.py:282: UserWarning: \"https://t.co/mbIrenFhri\" looks like a URL. Beautiful Soup is not an HTTP client. You should probably use an HTTP client like requests to get the document behind the URL, and feed that document to Beautiful Soup.\n",
      "  ' that document to Beautiful Soup.' % decoded_markup\n",
      "C:\\Users\\Amara\\Anaconda2\\envs\\py36\\lib\\site-packages\\bs4\\__init__.py:282: UserWarning: \"https://t.co/ZPsQ6beAAL\" looks like a URL. Beautiful Soup is not an HTTP client. You should probably use an HTTP client like requests to get the document behind the URL, and feed that document to Beautiful Soup.\n",
      "  ' that document to Beautiful Soup.' % decoded_markup\n",
      "C:\\Users\\Amara\\Anaconda2\\envs\\py36\\lib\\site-packages\\bs4\\__init__.py:282: UserWarning: \"https://t.co/2tHPenjEXb\" looks like a URL. Beautiful Soup is not an HTTP client. You should probably use an HTTP client like requests to get the document behind the URL, and feed that document to Beautiful Soup.\n",
      "  ' that document to Beautiful Soup.' % decoded_markup\n",
      "C:\\Users\\Amara\\Anaconda2\\envs\\py36\\lib\\site-packages\\bs4\\__init__.py:282: UserWarning: \"https://t.co/8gx6pjVgym\" looks like a URL. Beautiful Soup is not an HTTP client. You should probably use an HTTP client like requests to get the document behind the URL, and feed that document to Beautiful Soup.\n",
      "  ' that document to Beautiful Soup.' % decoded_markup\n"
     ]
    }
   ],
   "source": [
    "df_cs['cleaned_text'] = df_cs['text'].apply(lambda x : text_cleaners(x))"
   ]
  },
  {
   "cell_type": "code",
   "execution_count": 62,
   "metadata": {},
   "outputs": [],
   "source": [
    "df_cs['blobw'] = df_cs['cleaned_text'].apply(TextBlob)"
   ]
  },
  {
   "cell_type": "code",
   "execution_count": 63,
   "metadata": {},
   "outputs": [],
   "source": [
    "df_cs['sentiment'] = df_cs['cleaned_text'].apply(sentiment_calc)\n",
    "\n",
    "\n",
    "df_cs['Polarity'] = df_cs['cleaned_text'].apply(polarity_calc)\n",
    "df_cs['Subjectivity'] = df_cs['cleaned_text'].apply(subjectivity_calc)"
   ]
  },
  {
   "cell_type": "code",
   "execution_count": 73,
   "metadata": {},
   "outputs": [],
   "source": [
    "df_cs['Sentiment_class'] = df_cs.apply(conditions, axis=1)\n",
    "\n",
    "#Export Canadian Tire file to local machine\n",
    "df_cs.to_csv(\"costco_senti_score.csv\", encoding='utf-8', index=False)"
   ]
  },
  {
   "cell_type": "code",
   "execution_count": 66,
   "metadata": {},
   "outputs": [],
   "source": [
    "# Get Sobeys for walmart tweet\n",
    "\n",
    "#Read Sobeys tweets csv file\n",
    "df_sb = pd.read_csv(\"sobeys_all.csv\", encoding=\"latin-1\")"
   ]
  },
  {
   "cell_type": "code",
   "execution_count": 69,
   "metadata": {},
   "outputs": [
    {
     "data": {
      "text/html": [
       "<div>\n",
       "<style scoped>\n",
       "    .dataframe tbody tr th:only-of-type {\n",
       "        vertical-align: middle;\n",
       "    }\n",
       "\n",
       "    .dataframe tbody tr th {\n",
       "        vertical-align: top;\n",
       "    }\n",
       "\n",
       "    .dataframe thead th {\n",
       "        text-align: right;\n",
       "    }\n",
       "</style>\n",
       "<table border=\"1\" class=\"dataframe\">\n",
       "  <thead>\n",
       "    <tr style=\"text-align: right;\">\n",
       "      <th></th>\n",
       "      <th>Unnamed: 0</th>\n",
       "      <th>text</th>\n",
       "      <th>favorited</th>\n",
       "      <th>favoriteCount</th>\n",
       "      <th>replyToSN</th>\n",
       "      <th>created</th>\n",
       "      <th>truncated</th>\n",
       "      <th>replyToSID</th>\n",
       "      <th>id</th>\n",
       "      <th>replyToUID</th>\n",
       "      <th>statusSource</th>\n",
       "      <th>screenName</th>\n",
       "      <th>retweetCount</th>\n",
       "      <th>isRetweet</th>\n",
       "      <th>retweeted</th>\n",
       "      <th>longitude</th>\n",
       "      <th>latitude</th>\n",
       "      <th>isDuplicated</th>\n",
       "    </tr>\n",
       "  </thead>\n",
       "  <tbody>\n",
       "    <tr>\n",
       "      <th>0</th>\n",
       "      <td>1</td>\n",
       "      <td>@karla_macf_pc @NovaScotiaLive @sobeys Right a...</td>\n",
       "      <td>False</td>\n",
       "      <td>0</td>\n",
       "      <td>karla_macf_pc</td>\n",
       "      <td>2018-05-08 03:18:03</td>\n",
       "      <td>False</td>\n",
       "      <td>9.936283e+17</td>\n",
       "      <td>9.936915e+17</td>\n",
       "      <td>1.154630e+09</td>\n",
       "      <td>&lt;a href=\"http://twitter.com/download/iphone\" r...</td>\n",
       "      <td>valentino_nora</td>\n",
       "      <td>0</td>\n",
       "      <td>False</td>\n",
       "      <td>False</td>\n",
       "      <td>NaN</td>\n",
       "      <td>NaN</td>\n",
       "      <td>False</td>\n",
       "    </tr>\n",
       "    <tr>\n",
       "      <th>1</th>\n",
       "      <td>2</td>\n",
       "      <td>@tradegovukCAN @sobeys @SafewayCanada @DanaDic...</td>\n",
       "      <td>False</td>\n",
       "      <td>0</td>\n",
       "      <td>tradegovukCAN</td>\n",
       "      <td>2018-05-08 02:18:47</td>\n",
       "      <td>True</td>\n",
       "      <td>9.928476e+17</td>\n",
       "      <td>9.936766e+17</td>\n",
       "      <td>1.066106e+08</td>\n",
       "      <td>&lt;a href=\"http://twitter.com/download/iphone\" r...</td>\n",
       "      <td>ScotCanBC</td>\n",
       "      <td>0</td>\n",
       "      <td>False</td>\n",
       "      <td>False</td>\n",
       "      <td>NaN</td>\n",
       "      <td>NaN</td>\n",
       "      <td>False</td>\n",
       "    </tr>\n",
       "  </tbody>\n",
       "</table>\n",
       "</div>"
      ],
      "text/plain": [
       "   Unnamed: 0                                               text  favorited  \\\n",
       "0           1  @karla_macf_pc @NovaScotiaLive @sobeys Right a...      False   \n",
       "1           2  @tradegovukCAN @sobeys @SafewayCanada @DanaDic...      False   \n",
       "\n",
       "   favoriteCount      replyToSN              created  truncated    replyToSID  \\\n",
       "0              0  karla_macf_pc  2018-05-08 03:18:03      False  9.936283e+17   \n",
       "1              0  tradegovukCAN  2018-05-08 02:18:47       True  9.928476e+17   \n",
       "\n",
       "             id    replyToUID  \\\n",
       "0  9.936915e+17  1.154630e+09   \n",
       "1  9.936766e+17  1.066106e+08   \n",
       "\n",
       "                                        statusSource      screenName  \\\n",
       "0  <a href=\"http://twitter.com/download/iphone\" r...  valentino_nora   \n",
       "1  <a href=\"http://twitter.com/download/iphone\" r...       ScotCanBC   \n",
       "\n",
       "   retweetCount  isRetweet  retweeted  longitude  latitude  isDuplicated  \n",
       "0             0      False      False        NaN       NaN         False  \n",
       "1             0      False      False        NaN       NaN         False  "
      ]
     },
     "execution_count": 69,
     "metadata": {},
     "output_type": "execute_result"
    }
   ],
   "source": [
    "#check the loaded file\n",
    "df_sb.head(2)"
   ]
  },
  {
   "cell_type": "code",
   "execution_count": 70,
   "metadata": {},
   "outputs": [],
   "source": [
    "df_sb.isDuplicated.value_counts()\n",
    "#Remove unnecessary columns\n",
    "df_sb.drop(['Unnamed: 0','longitude','favorited','truncated','latitude','id','isDuplicated','replyToUID'],axis=1,inplace=True) \n"
   ]
  },
  {
   "cell_type": "code",
   "execution_count": 71,
   "metadata": {},
   "outputs": [
    {
     "name": "stderr",
     "output_type": "stream",
     "text": [
      "C:\\Users\\Amara\\Anaconda2\\envs\\py36\\lib\\site-packages\\bs4\\__init__.py:282: UserWarning: \"https://t.co/dMJ54sSrRB\" looks like a URL. Beautiful Soup is not an HTTP client. You should probably use an HTTP client like requests to get the document behind the URL, and feed that document to Beautiful Soup.\n",
      "  ' that document to Beautiful Soup.' % decoded_markup\n",
      "C:\\Users\\Amara\\Anaconda2\\envs\\py36\\lib\\site-packages\\bs4\\__init__.py:282: UserWarning: \"https://t.co/yMa8uJ0GUh\" looks like a URL. Beautiful Soup is not an HTTP client. You should probably use an HTTP client like requests to get the document behind the URL, and feed that document to Beautiful Soup.\n",
      "  ' that document to Beautiful Soup.' % decoded_markup\n",
      "C:\\Users\\Amara\\Anaconda2\\envs\\py36\\lib\\site-packages\\bs4\\__init__.py:282: UserWarning: \"https://t.co/WRzdcPaspg\" looks like a URL. Beautiful Soup is not an HTTP client. You should probably use an HTTP client like requests to get the document behind the URL, and feed that document to Beautiful Soup.\n",
      "  ' that document to Beautiful Soup.' % decoded_markup\n"
     ]
    }
   ],
   "source": [
    "df_sb['cleaned_text'] = df_sb['text'].apply(lambda x : text_cleaners(x))"
   ]
  },
  {
   "cell_type": "code",
   "execution_count": 72,
   "metadata": {},
   "outputs": [],
   "source": [
    "\n",
    "df_sb['blobw'] = df_sb['cleaned_text'].apply(TextBlob)\n",
    "\n",
    "df_sb['sentiment'] = df_sb['cleaned_text'].apply(sentiment_calc)\n",
    "\n",
    "\n",
    "df_sb['Polarity'] = df_sb['cleaned_text'].apply(polarity_calc)\n",
    "df_sb['Subjectivity'] = df_sb['cleaned_text'].apply(subjectivity_calc)"
   ]
  },
  {
   "cell_type": "code",
   "execution_count": 74,
   "metadata": {},
   "outputs": [],
   "source": [
    "\n",
    "df_sb['Sentiment_class'] = df_sb.apply(conditions, axis=1)\n",
    "\n",
    "#Export Canadian Tire file to local machine\n",
    "df_sb.to_csv(\"sobeys_senti_score.csv\", encoding='utf-8', index=False)\n"
   ]
  },
  {
   "cell_type": "code",
   "execution_count": null,
   "metadata": {},
   "outputs": [],
   "source": []
  }
 ],
 "metadata": {
  "kernelspec": {
   "display_name": "Python 3",
   "language": "python",
   "name": "python3"
  },
  "language_info": {
   "codemirror_mode": {
    "name": "ipython",
    "version": 3
   },
   "file_extension": ".py",
   "mimetype": "text/x-python",
   "name": "python",
   "nbconvert_exporter": "python",
   "pygments_lexer": "ipython3",
   "version": "3.6.4"
  }
 },
 "nbformat": 4,
 "nbformat_minor": 2
}
