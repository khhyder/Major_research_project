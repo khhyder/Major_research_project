{
 "cells": [
  {
   "cell_type": "code",
   "execution_count": 11,
   "metadata": {},
   "outputs": [
    {
     "name": "stdout",
     "output_type": "stream",
     "text": [
      "[nltk_data] Downloading package stopwords to\n",
      "[nltk_data]     C:\\Users\\Amara\\AppData\\Roaming\\nltk_data...\n",
      "[nltk_data]   Package stopwords is already up-to-date!\n",
      "[nltk_data] Downloading package wordnet to\n",
      "[nltk_data]     C:\\Users\\Amara\\AppData\\Roaming\\nltk_data...\n",
      "[nltk_data]   Package wordnet is already up-to-date!\n"
     ]
    },
    {
     "data": {
      "text/plain": [
       "'C:\\\\#Study\\\\2. Ryerson_all\\\\THE MRP\\\\Dataset\\\\bulk_entry\\\\training_set\\\\For_senti'"
      ]
     },
     "execution_count": 11,
     "metadata": {},
     "output_type": "execute_result"
    }
   ],
   "source": [
    "import sys\n",
    "import csv\n",
    "import pandas as pd\n",
    "from nltk.corpus import stopwords\n",
    "from nltk.stem import WordNetLemmatizer\n",
    "import numpy as np\n",
    "from sklearn.metrics import accuracy_score\n",
    "\n",
    "from sklearn.feature_extraction.text import TfidfVectorizer, CountVectorizer\n",
    "from sklearn.model_selection import train_test_split, cross_val_score, KFold\n",
    "import matplotlib.pyplot as plt\n",
    "import seaborn as sns\n",
    "\n",
    "import nltk\n",
    "wordnet_lemmatizer = WordNetLemmatizer()\n",
    "nltk.download('stopwords')\n",
    "nltk.download('wordnet')\n",
    "\n",
    "from nltk.tokenize import WordPunctTokenizer\n",
    "tok = WordPunctTokenizer()\n",
    "from bs4 import BeautifulSoup\n",
    "import re\n",
    "import os \n",
    "cwd = os.getcwd()\n",
    "os.chdir(\"C:\\\\#Study\\\\2. Ryerson_all\\\\THE MRP\\\\Dataset\\\\bulk_entry\\\\training_set\\\\For_senti\")\n",
    "cwd"
   ]
  },
  {
   "cell_type": "code",
   "execution_count": 2,
   "metadata": {},
   "outputs": [],
   "source": [
    "pattern_1 = r'@[A-Za-z0-9]+'\n",
    "pattern_2 = r'https?://[A-Za-z0-9./]+'\n",
    "comb_pat = r'|'.join((pattern_1, pattern_2))\n",
    "\n",
    "def tweet_cleaner(text):\n",
    "    sp = BeautifulSoup(text, 'lxml') #by using beautifulSoup package we will decode html to general text to avoid &amp, &quot\n",
    "    sped = sp.get_text()\n",
    "    stripped = re.sub(comb_pat, '', sped)\n",
    "    try:\n",
    "        clean = stripped.encode().decode(\"utf-8-sig\").replace(u\"\\ufffd\", \"?\")\n",
    "    except:\n",
    "        clean = stripped\n",
    "    letters_only = re.sub(\"[^a-zA-Z]\", \" \", clean)\n",
    "    letters_only1 = letters_only.replace('RT','')\n",
    "\n",
    "    letters_only = [word for word in letters_only.split() if word not in stopwords.words('english') + ['amp'] + ['u']]\n",
    "    lower_case = letters_only1.lower() #Here we will get white spaces those are not necessary, we need to tokenize and join these to remove these white spaces. \n",
    "    words = tok.tokenize(lower_case)\n",
    "    return (\" \".join(words)).strip()"
   ]
  },
  {
   "cell_type": "code",
   "execution_count": 12,
   "metadata": {},
   "outputs": [],
   "source": [
    "all_train = pd.read_csv(\"after_dup_senti.csv\", encoding=\"latin-1\")"
   ]
  },
  {
   "cell_type": "code",
   "execution_count": 16,
   "metadata": {},
   "outputs": [
    {
     "data": {
      "text/html": [
       "<div>\n",
       "<style scoped>\n",
       "    .dataframe tbody tr th:only-of-type {\n",
       "        vertical-align: middle;\n",
       "    }\n",
       "\n",
       "    .dataframe tbody tr th {\n",
       "        vertical-align: top;\n",
       "    }\n",
       "\n",
       "    .dataframe thead th {\n",
       "        text-align: right;\n",
       "    }\n",
       "</style>\n",
       "<table border=\"1\" class=\"dataframe\">\n",
       "  <thead>\n",
       "    <tr style=\"text-align: right;\">\n",
       "      <th></th>\n",
       "      <th>score</th>\n",
       "      <th>text</th>\n",
       "      <th>retail</th>\n",
       "      <th>polarity</th>\n",
       "      <th>clean_text</th>\n",
       "    </tr>\n",
       "  </thead>\n",
       "  <tbody>\n",
       "    <tr>\n",
       "      <th>21069</th>\n",
       "      <td>1</td>\n",
       "      <td>@WalmartCanada @_jere @walmarthelp ItÃÂs act...</td>\n",
       "      <td>Walmart</td>\n",
       "      <td>neutral</td>\n",
       "      <td>jere it s actually jere who is the customer i ...</td>\n",
       "    </tr>\n",
       "    <tr>\n",
       "      <th>21070</th>\n",
       "      <td>-2</td>\n",
       "      <td>@WalmartCanada what the heck?  I bought a pair...</td>\n",
       "      <td>Walmart</td>\n",
       "      <td>negative</td>\n",
       "      <td>what the heck i bought a pair of pants and sho...</td>\n",
       "    </tr>\n",
       "    <tr>\n",
       "      <th>21071</th>\n",
       "      <td>0</td>\n",
       "      <td>@WalmartCanada @walmarthelp what is going to t...</td>\n",
       "      <td>Walmart</td>\n",
       "      <td>neutral</td>\n",
       "      <td>what is going to take to find out about sensit...</td>\n",
       "    </tr>\n",
       "    <tr>\n",
       "      <th>21072</th>\n",
       "      <td>2</td>\n",
       "      <td>@WalmartCanada I love honeycomb cereal! Its ma...</td>\n",
       "      <td>Walmart</td>\n",
       "      <td>positive</td>\n",
       "      <td>i love honeycomb cereal its magically delicious</td>\n",
       "    </tr>\n",
       "    <tr>\n",
       "      <th>21073</th>\n",
       "      <td>-2</td>\n",
       "      <td>@WalmartCanada the worst place to order anythi...</td>\n",
       "      <td>Walmart</td>\n",
       "      <td>negative</td>\n",
       "      <td>the worst place to order anything online cance...</td>\n",
       "    </tr>\n",
       "  </tbody>\n",
       "</table>\n",
       "</div>"
      ],
      "text/plain": [
       "       score                                               text   retail  \\\n",
       "21069      1  @WalmartCanada @_jere @walmarthelp ItÃÂs act...  Walmart   \n",
       "21070     -2  @WalmartCanada what the heck?  I bought a pair...  Walmart   \n",
       "21071      0  @WalmartCanada @walmarthelp what is going to t...  Walmart   \n",
       "21072      2  @WalmartCanada I love honeycomb cereal! Its ma...  Walmart   \n",
       "21073     -2  @WalmartCanada the worst place to order anythi...  Walmart   \n",
       "\n",
       "       polarity                                         clean_text  \n",
       "21069   neutral  jere it s actually jere who is the customer i ...  \n",
       "21070  negative  what the heck i bought a pair of pants and sho...  \n",
       "21071   neutral  what is going to take to find out about sensit...  \n",
       "21072  positive    i love honeycomb cereal its magically delicious  \n",
       "21073  negative  the worst place to order anything online cance...  "
      ]
     },
     "execution_count": 16,
     "metadata": {},
     "output_type": "execute_result"
    }
   ],
   "source": [
    "all_train.tail()"
   ]
  },
  {
   "cell_type": "code",
   "execution_count": 15,
   "metadata": {},
   "outputs": [],
   "source": [
    "#Remove unnecessary column from dataframe.\n",
    "all_train.drop(['Unnamed: 0', 'Unnamed: 5'],  axis=1, inplace=True)"
   ]
  },
  {
   "cell_type": "code",
   "execution_count": 8,
   "metadata": {},
   "outputs": [
    {
     "data": {
      "text/plain": [
       "21074"
      ]
     },
     "execution_count": 8,
     "metadata": {},
     "output_type": "execute_result"
    }
   ],
   "source": [
    "sum(all_train.retail.value_counts())"
   ]
  },
  {
   "cell_type": "code",
   "execution_count": 9,
   "metadata": {},
   "outputs": [
    {
     "data": {
      "text/plain": [
       "neutral     15430\n",
       "negative     2903\n",
       "positive     2741\n",
       "Name: polarity, dtype: int64"
      ]
     },
     "execution_count": 9,
     "metadata": {},
     "output_type": "execute_result"
    }
   ],
   "source": [
    "all_train.polarity.value_counts()"
   ]
  },
  {
   "cell_type": "code",
   "execution_count": 13,
   "metadata": {},
   "outputs": [
    {
     "name": "stderr",
     "output_type": "stream",
     "text": [
      "C:\\Users\\Amara\\Anaconda2\\envs\\py36\\lib\\site-packages\\bs4\\__init__.py:282: UserWarning: \"https://t.co/QJjeg2triC\" looks like a URL. Beautiful Soup is not an HTTP client. You should probably use an HTTP client like requests to get the document behind the URL, and feed that document to Beautiful Soup.\n",
      "  ' that document to Beautiful Soup.' % decoded_markup\n",
      "C:\\Users\\Amara\\Anaconda2\\envs\\py36\\lib\\site-packages\\bs4\\__init__.py:282: UserWarning: \"https://t.co/MpWe7GZ0ly\" looks like a URL. Beautiful Soup is not an HTTP client. You should probably use an HTTP client like requests to get the document behind the URL, and feed that document to Beautiful Soup.\n",
      "  ' that document to Beautiful Soup.' % decoded_markup\n",
      "C:\\Users\\Amara\\Anaconda2\\envs\\py36\\lib\\site-packages\\bs4\\__init__.py:282: UserWarning: \"https://t.co/WRzdcPaspg\" looks like a URL. Beautiful Soup is not an HTTP client. You should probably use an HTTP client like requests to get the document behind the URL, and feed that document to Beautiful Soup.\n",
      "  ' that document to Beautiful Soup.' % decoded_markup\n"
     ]
    }
   ],
   "source": [
    "all_train['clean_text'] = all_train['text'].apply(lambda x : tweet_cleaner(x))"
   ]
  },
  {
   "cell_type": "code",
   "execution_count": 81,
   "metadata": {},
   "outputs": [],
   "source": [
    "cnt_vectorizer  = CountVectorizer()\n",
    "train_set_X = cnt_vectorizer.fit_transform(all_train['clean_text'].values.astype('U'))\n"
   ]
  },
  {
   "cell_type": "code",
   "execution_count": 18,
   "metadata": {},
   "outputs": [],
   "source": [
    "train_set_Y = np.where(all_train.polarity == 'positive', 1, \n",
    "         (np.where(all_train.polarity == 'negative', 2, 3)))"
   ]
  },
  {
   "cell_type": "code",
   "execution_count": null,
   "metadata": {},
   "outputs": [],
   "source": []
  },
  {
   "cell_type": "code",
   "execution_count": 19,
   "metadata": {},
   "outputs": [
    {
     "data": {
      "text/plain": [
       "array([1, 3, 1, ..., 3, 1, 2])"
      ]
     },
     "execution_count": 19,
     "metadata": {},
     "output_type": "execute_result"
    }
   ],
   "source": [
    "train_set_Y"
   ]
  },
  {
   "cell_type": "code",
   "execution_count": 20,
   "metadata": {},
   "outputs": [],
   "source": [
    "kfold = KFold(n_splits = 5, shuffle = True, random_state=1234)"
   ]
  },
  {
   "cell_type": "code",
   "execution_count": 21,
   "metadata": {},
   "outputs": [
    {
     "name": "stdout",
     "output_type": "stream",
     "text": [
      "(21074,)\n",
      "(21074, 18363)\n"
     ]
    }
   ],
   "source": [
    "print (train_set_Y.shape)\n",
    "print (train_set_X.shape)"
   ]
  },
  {
   "cell_type": "code",
   "execution_count": 22,
   "metadata": {},
   "outputs": [],
   "source": [
    "from sklearn.linear_model import LogisticRegressionCV\n",
    "from sklearn.naive_bayes import MultinomialNB\n",
    "from sklearn.ensemble import RandomForestClassifier\n",
    "from sklearn.neighbors import KNeighborsClassifier\n",
    "from sklearn.ensemble import GradientBoostingClassifier\n",
    "from sklearn.ensemble import RandomForestClassifier, AdaBoostClassifier\n",
    "from sklearn.svm import LinearSVC, SVC\n",
    "from sklearn.metrics import accuracy_score"
   ]
  },
  {
   "cell_type": "code",
   "execution_count": 23,
   "metadata": {},
   "outputs": [],
   "source": [
    "from IPython.display import Image"
   ]
  },
  {
   "cell_type": "code",
   "execution_count": 24,
   "metadata": {},
   "outputs": [
    {
     "name": "stdout",
     "output_type": "stream",
     "text": [
      "0.8831262565441638\n"
     ]
    }
   ],
   "source": [
    "log_cnt_mdl = LogisticRegressionCV()\n",
    "log_count_score = cross_val_score(log_cnt_mdl,\n",
    "                                  train_set_X, train_set_Y,\n",
    "                                  scoring = 'accuracy',\n",
    "                                  cv = kfold.split(train_set_X),\n",
    "                                  n_jobs=-1).mean()\n",
    "print (log_count_score)"
   ]
  },
  {
   "cell_type": "code",
   "execution_count": 25,
   "metadata": {},
   "outputs": [
    {
     "name": "stdout",
     "output_type": "stream",
     "text": [
      "0.8789976922656837\n"
     ]
    }
   ],
   "source": [
    "svc_count_model = LinearSVC()\n",
    "svc_count_score = cross_val_score(svc_count_model,\n",
    "                                  train_set_X, train_set_Y,\n",
    "                                  scoring = 'accuracy',\n",
    "                                  cv = kfold.split(train_set_X),\n",
    "                                  n_jobs=-1).mean()\n",
    "print (svc_count_score)"
   ]
  },
  {
   "cell_type": "code",
   "execution_count": 26,
   "metadata": {},
   "outputs": [
    {
     "name": "stdout",
     "output_type": "stream",
     "text": [
      "0.7906423653629291\n"
     ]
    }
   ],
   "source": [
    "nb_count_model = MultinomialNB()\n",
    "nb_count_score = cross_val_score(nb_count_model, \n",
    "                                 train_set_X, train_set_Y,\n",
    "                                 scoring = 'accuracy', \n",
    "                                 cv = kfold.split(train_set_X,),\n",
    "                                 n_jobs=-1).mean()\n",
    "print (nb_count_score)"
   ]
  },
  {
   "cell_type": "code",
   "execution_count": 27,
   "metadata": {},
   "outputs": [
    {
     "name": "stdout",
     "output_type": "stream",
     "text": [
      "0.8044507575437689\n"
     ]
    }
   ],
   "source": [
    "gb_count_model = GradientBoostingClassifier()\n",
    "gb_count_score = cross_val_score(gb_count_model, \n",
    "                                 train_set_X, train_set_Y,\n",
    "                                 scoring = 'accuracy', \n",
    "                                 cv = kfold.split(train_set_X),\n",
    "                                 n_jobs=-1).mean()\n",
    "print (gb_count_score)"
   ]
  },
  {
   "cell_type": "code",
   "execution_count": 28,
   "metadata": {},
   "outputs": [
    {
     "name": "stdout",
     "output_type": "stream",
     "text": [
      "0.8528990018584608\n"
     ]
    }
   ],
   "source": [
    "rf_count_model = RandomForestClassifier()\n",
    "rf_count_score = cross_val_score(rf_count_model, \n",
    "                                 train_set_X, train_set_Y,\n",
    "                                 scoring = 'accuracy', \n",
    "                                 cv = kfold.split(train_set_X),\n",
    "                                 n_jobs=-1).mean()\n",
    "print (rf_count_score)"
   ]
  },
  {
   "cell_type": "code",
   "execution_count": 29,
   "metadata": {},
   "outputs": [],
   "source": [
    "# TF-IDF Vectorizer"
   ]
  },
  {
   "cell_type": "code",
   "execution_count": 31,
   "metadata": {},
   "outputs": [],
   "source": [
    "#Create a list of cleaned tweets\n",
    "tweets = all_train.clean_text.values.astype('U')"
   ]
  },
  {
   "cell_type": "code",
   "execution_count": 79,
   "metadata": {},
   "outputs": [],
   "source": [
    "tfidf_vectorizer = TfidfVectorizer(stop_words=None, max_features=17000, ngram_range=(1, 3))\n",
    "train_set_X = tfidf_vectorizer.fit_transform(tweets) #Transform tweets list into TF-IDV vector"
   ]
  },
  {
   "cell_type": "code",
   "execution_count": 33,
   "metadata": {},
   "outputs": [
    {
     "name": "stdout",
     "output_type": "stream",
     "text": [
      "0.8506683759326787\n"
     ]
    }
   ],
   "source": [
    "log_tfidf_model = LogisticRegressionCV()\n",
    "log_tfidf_score = cross_val_score(log_tfidf_model,\n",
    "                                  train_set_X, train_set_Y,\n",
    "                                  scoring = 'accuracy',\n",
    "                                  cv = kfold.split(train_set_X),\n",
    "                                  n_jobs=-1).mean()\n",
    "print (log_tfidf_score)"
   ]
  },
  {
   "cell_type": "code",
   "execution_count": 34,
   "metadata": {},
   "outputs": [
    {
     "name": "stdout",
     "output_type": "stream",
     "text": [
      "0.8789976922656837\n"
     ]
    }
   ],
   "source": [
    "svc_tfidf_model = LinearSVC()\n",
    "svc_tfidf_score = cross_val_score(svc_tfidf_model,\n",
    "                                  train_set_X, train_set_Y,\n",
    "                                  scoring = 'accuracy',\n",
    "                                  cv = kfold.split(train_set_X),\n",
    "                                  n_jobs=-1).mean()\n",
    "print (svc_count_score)"
   ]
  },
  {
   "cell_type": "code",
   "execution_count": 35,
   "metadata": {},
   "outputs": [
    {
     "name": "stdout",
     "output_type": "stream",
     "text": [
      "0.7578054510722605\n"
     ]
    }
   ],
   "source": [
    "nb_tfidf_model = MultinomialNB()\n",
    "nb_tfidf_score = cross_val_score(nb_tfidf_model, \n",
    "                                 train_set_X, train_set_Y,\n",
    "                                 scoring = 'accuracy', \n",
    "                                 cv = kfold.split(train_set_X,),\n",
    "                                 n_jobs=-1).mean()\n",
    "print (nb_tfidf_score)"
   ]
  },
  {
   "cell_type": "code",
   "execution_count": 36,
   "metadata": {},
   "outputs": [
    {
     "name": "stdout",
     "output_type": "stream",
     "text": [
      "0.8049725903768774\n"
     ]
    }
   ],
   "source": [
    "gb_tfidf_model = GradientBoostingClassifier()\n",
    "gb_tfidf_score = cross_val_score(gb_tfidf_model, \n",
    "                                 train_set_X, train_set_Y,\n",
    "                                 scoring = 'accuracy', \n",
    "                                 cv = kfold.split(train_set_X),\n",
    "                                 n_jobs=-1).mean()\n",
    "print (gb_tfidf_score)"
   ]
  },
  {
   "cell_type": "code",
   "execution_count": 37,
   "metadata": {},
   "outputs": [
    {
     "name": "stdout",
     "output_type": "stream",
     "text": [
      "0.8440729962431053\n"
     ]
    }
   ],
   "source": [
    "rf_tfidf_model  = RandomForestClassifier()\n",
    "rf_tfidf_score = cross_val_score(rf_tfidf_model, \n",
    "                                 train_set_X, train_set_Y,\n",
    "                                 scoring = 'accuracy', \n",
    "                                 cv = kfold.split(train_set_X),\n",
    "                                 n_jobs=-1).mean()\n",
    "print (rf_tfidf_score)"
   ]
  },
  {
   "cell_type": "code",
   "execution_count": null,
   "metadata": {},
   "outputs": [],
   "source": [
    "selected_model = LinearSVC().fit(train_set_X, train_set_Y)"
   ]
  },
  {
   "cell_type": "code",
   "execution_count": 39,
   "metadata": {},
   "outputs": [
    {
     "data": {
      "text/html": [
       "<div>\n",
       "<style scoped>\n",
       "    .dataframe tbody tr th:only-of-type {\n",
       "        vertical-align: middle;\n",
       "    }\n",
       "\n",
       "    .dataframe tbody tr th {\n",
       "        vertical-align: top;\n",
       "    }\n",
       "\n",
       "    .dataframe thead th {\n",
       "        text-align: right;\n",
       "    }\n",
       "</style>\n",
       "<table border=\"1\" class=\"dataframe\">\n",
       "  <thead>\n",
       "    <tr style=\"text-align: right;\">\n",
       "      <th></th>\n",
       "      <th>label</th>\n",
       "      <th>score</th>\n",
       "    </tr>\n",
       "  </thead>\n",
       "  <tbody>\n",
       "    <tr>\n",
       "      <th>0</th>\n",
       "      <td>log_count_score</td>\n",
       "      <td>0.883126</td>\n",
       "    </tr>\n",
       "    <tr>\n",
       "      <th>1</th>\n",
       "      <td>svc_count_score</td>\n",
       "      <td>0.878998</td>\n",
       "    </tr>\n",
       "    <tr>\n",
       "      <th>4</th>\n",
       "      <td>rf_count_score</td>\n",
       "      <td>0.852899</td>\n",
       "    </tr>\n",
       "    <tr>\n",
       "      <th>5</th>\n",
       "      <td>log_tfidf_score</td>\n",
       "      <td>0.850668</td>\n",
       "    </tr>\n",
       "    <tr>\n",
       "      <th>6</th>\n",
       "      <td>svc_tfidf_score</td>\n",
       "      <td>0.848533</td>\n",
       "    </tr>\n",
       "    <tr>\n",
       "      <th>9</th>\n",
       "      <td>rf_tfidf_score</td>\n",
       "      <td>0.844073</td>\n",
       "    </tr>\n",
       "    <tr>\n",
       "      <th>8</th>\n",
       "      <td>gb_tfidf_score</td>\n",
       "      <td>0.804973</td>\n",
       "    </tr>\n",
       "    <tr>\n",
       "      <th>3</th>\n",
       "      <td>gb_count_score</td>\n",
       "      <td>0.804451</td>\n",
       "    </tr>\n",
       "    <tr>\n",
       "      <th>2</th>\n",
       "      <td>nb_count_score</td>\n",
       "      <td>0.790642</td>\n",
       "    </tr>\n",
       "    <tr>\n",
       "      <th>7</th>\n",
       "      <td>nb_tfidf_score</td>\n",
       "      <td>0.757805</td>\n",
       "    </tr>\n",
       "  </tbody>\n",
       "</table>\n",
       "</div>"
      ],
      "text/plain": [
       "             label     score\n",
       "0  log_count_score  0.883126\n",
       "1  svc_count_score  0.878998\n",
       "4   rf_count_score  0.852899\n",
       "5  log_tfidf_score  0.850668\n",
       "6  svc_tfidf_score  0.848533\n",
       "9   rf_tfidf_score  0.844073\n",
       "8   gb_tfidf_score  0.804973\n",
       "3   gb_count_score  0.804451\n",
       "2   nb_count_score  0.790642\n",
       "7   nb_tfidf_score  0.757805"
      ]
     },
     "metadata": {},
     "output_type": "display_data"
    }
   ],
   "source": [
    "result = {\n",
    "    'label' : ['log_count_score' , 'svc_count_score',\n",
    "               'nb_count_score', 'gb_count_score',\n",
    "              'rf_count_score', 'log_tfidf_score',\n",
    "              'svc_tfidf_score', 'nb_tfidf_score',\n",
    "              'gb_tfidf_score', 'rf_tfidf_score',\n",
    "              ],\n",
    "    'score' : [log_count_score , svc_count_score,\n",
    "               nb_count_score, gb_count_score,\n",
    "              rf_count_score, log_tfidf_score,\n",
    "              svc_tfidf_score, nb_tfidf_score,\n",
    "              gb_tfidf_score, rf_tfidf_score]\n",
    "}\n",
    "\n",
    "df_result = pd.DataFrame(result)\n",
    "display(df_result.sort_values('score', ascending=False))"
   ]
  },
  {
   "cell_type": "code",
   "execution_count": 40,
   "metadata": {},
   "outputs": [
    {
     "data": {
      "image/png": "[encoded data removed]",
      "text/plain": [
       "<matplotlib.figure.Figure at 0x1ed754bfeb8>"
      ]
     },
     "metadata": {},
     "output_type": "display_data"
    }
   ],
   "source": [
    "import  seaborn  as sns\n",
    "df_result = df_result.sort_values('score', ascending=False)\n",
    "f, ax = plt.subplots(figsize=(15, 6))\n",
    "sns.set_color_codes(\"pastel\")\n",
    "ax = sns.barplot(x='score', y='label', data=df_result, orient='h')\n",
    "sns.despine(left=True, bottom=True)"
   ]
  },
  {
   "cell_type": "code",
   "execution_count": 41,
   "metadata": {},
   "outputs": [],
   "source": [
    "#oversampling\n",
    "from sklearn.pipeline import Pipeline\n",
    "from sklearn.metrics import accuracy_score\n",
    "from sklearn.model_selection import StratifiedKFold\n",
    "from sklearn.metrics import precision_score, recall_score, f1_score\n",
    "import numpy as np\n",
    "from imblearn.pipeline import make_pipeline\n",
    "from imblearn.over_sampling import ADASYN, SMOTE, RandomOverSampler\n",
    "\n",
    "ROS_pl = make_pipeline(cnt_vectorizer, RandomOverSampler(random_state=777),log_cnt_mdl)\n",
    "SMOTE_pl = make_pipeline(cnt_vectorizer, SMOTE(random_state=777),log_cnt_mdl)\n",
    "ADASYN_pl = make_pipeline(cnt_vectorizer, ADASYN(ratio='minority',random_state=777),log_cnt_mdl)"
   ]
  },
  {
   "cell_type": "code",
   "execution_count": 42,
   "metadata": {},
   "outputs": [],
   "source": [
    "def find_accuracy(splits, X, Y, pipeline, average_method):\n",
    "    \n",
    "    kfold = StratifiedKFold(n_splits=splits, shuffle=True, random_state=777)\n",
    "    accuracy = []\n",
    "    precision = []\n",
    "    recall = []\n",
    "    f1 = []\n",
    "    for train, test in kfold.split(X, Y):\n",
    "        lnr_fit = pipeline.fit(X[train], Y[train])\n",
    "        pred = lnr_fit.predict(X[test])\n",
    "        scr = lnr_fit.score(X[test],Y[test])\n",
    "        \n",
    "        accuracy.append(scr * 100)\n",
    "        precision.append(precision_score(Y[test], pred, average=average_method)*100)\n",
    "        print('              negative    neutral     positive')\n",
    "        print('precision:',precision_score(Y[test], pred, average=None))\n",
    "        recall.append(recall_score(Y[test], pred, average=average_method)*100)\n",
    "        print('recall:   ',recall_score(Y[test], pred, average=None))\n",
    "        f1.append(f1_score(Y[test], pred, average=average_method)*100)\n",
    "        print('f1 score: ',f1_score(Y[test], pred, average=None))\n",
    "        print('-'*50)\n",
    "\n",
    "    print(\"avg. accuracy: %.2f%% (+/- %.2f%%)\" % (np.mean(accuracy), np.std(accuracy)))\n",
    "    print(\"avg. precision: %.2f%% (+/- %.2f%%)\" % (np.mean(precision), np.std(precision)))\n",
    "    print(\"avg. recall: %.2f%% (+/- %.2f%%)\" % (np.mean(recall), np.std(recall)))\n",
    "    print(\"avg. f1 score: %.2f%% (+/- %.2f%%)\" % (np.mean(f1), np.std(f1)))"
   ]
  },
  {
   "cell_type": "code",
   "execution_count": 43,
   "metadata": {},
   "outputs": [],
   "source": [
    "count_lr_pipeline = Pipeline([\n",
    "    ('vectorizer', cnt_vectorizer),\n",
    "    ('classifier', log_cnt_mdl)\n",
    "])"
   ]
  },
  {
   "cell_type": "code",
   "execution_count": 44,
   "metadata": {},
   "outputs": [
    {
     "name": "stdout",
     "output_type": "stream",
     "text": [
      "              negative    neutral     positive\n",
      "precision: [0.85158151 0.8850133  0.92180095]\n",
      "recall:    [0.60240964 0.97018795 0.70856102]\n",
      "f1 score:  [0.70564516 0.92564539 0.80123584]\n",
      "--------------------------------------------------\n",
      "              negative    neutral     positive\n",
      "precision: [0.83651226 0.87635511 0.91494253]\n",
      "recall:    [0.52839931 0.96921581 0.72627737]\n",
      "f1 score:  [0.64767932 0.9204493  0.80976602]\n",
      "--------------------------------------------------\n",
      "              negative    neutral     positive\n",
      "precision: [0.83732057 0.89041505 0.91741071]\n",
      "recall:    [0.60240964 0.96629942 0.75      ]\n",
      "f1 score:  [0.7007007  0.92680653 0.8253012 ]\n",
      "--------------------------------------------------\n",
      "              negative    neutral     positive\n",
      "precision: [0.83835616 0.88400236 0.92841649]\n",
      "recall:    [0.52758621 0.97051199 0.7810219 ]\n",
      "f1 score:  [0.64761905 0.92523942 0.84836472]\n",
      "--------------------------------------------------\n",
      "              negative    neutral     positive\n",
      "precision: [0.82816229 0.88832487 0.9058296 ]\n",
      "recall:    [0.59827586 0.96403111 0.73722628]\n",
      "f1 score:  [0.69469469 0.92463092 0.81287726]\n",
      "--------------------------------------------------\n",
      "avg. accuracy: 88.39% (+/- 0.37%)\n",
      "avg. precision: 88.03% (+/- 0.46%)\n",
      "avg. recall: 76.02% (+/- 1.06%)\n",
      "avg. f1 score: 80.78% (+/- 0.83%)\n"
     ]
    }
   ],
   "source": [
    "find_accuracy(5, all_train.clean_text, all_train.polarity, count_lr_pipeline, 'macro')"
   ]
  },
  {
   "cell_type": "code",
   "execution_count": 45,
   "metadata": {},
   "outputs": [],
   "source": [
    "count_svc_pipeline = Pipeline([\n",
    "    ('vectorizer', cnt_vectorizer),\n",
    "    ('classifier', svc_count_model)\n",
    "])"
   ]
  },
  {
   "cell_type": "code",
   "execution_count": 47,
   "metadata": {},
   "outputs": [
    {
     "name": "stdout",
     "output_type": "stream",
     "text": [
      "              negative    neutral     positive\n",
      "precision: [0.78719008 0.89700894 0.83231084]\n",
      "recall:    [0.65576592 0.9426442  0.74134791]\n",
      "f1 score:  [0.71549296 0.91926055 0.78420039]\n",
      "--------------------------------------------------\n",
      "              negative    neutral     positive\n",
      "precision: [0.78818737 0.9002486  0.82806324]\n",
      "recall:    [0.66609294 0.93875567 0.76459854]\n",
      "f1 score:  [0.72201493 0.91909898 0.79506641]\n",
      "--------------------------------------------------\n",
      "              negative    neutral     positive\n",
      "precision: [0.79915433 0.89953632 0.83629191]\n",
      "recall:    [0.65060241 0.94296824 0.77372263]\n",
      "f1 score:  [0.71726755 0.92074039 0.80379147]\n",
      "--------------------------------------------------\n",
      "              negative    neutral     positive\n",
      "precision: [0.77300613 0.90665002 0.85440613]\n",
      "recall:    [0.65172414 0.94102398 0.81386861]\n",
      "f1 score:  [0.70720299 0.92351725 0.83364486]\n",
      "--------------------------------------------------\n",
      "              negative    neutral     positive\n",
      "precision: [0.81330472 0.89877301 0.84631148]\n",
      "recall:    [0.65344828 0.94944913 0.75364964]\n",
      "f1 score:  [0.72466539 0.92341633 0.7972973 ]\n",
      "--------------------------------------------------\n",
      "avg. accuracy: 88.08% (+/- 0.29%)\n",
      "avg. precision: 84.40% (+/- 0.51%)\n",
      "avg. recall: 78.93% (+/- 0.73%)\n",
      "avg. f1 score: 81.38% (+/- 0.49%)\n"
     ]
    }
   ],
   "source": [
    "find_accuracy(5, all_train.clean_text, all_train.polarity, count_svc_pipeline, 'macro')"
   ]
  },
  {
   "cell_type": "code",
   "execution_count": 48,
   "metadata": {},
   "outputs": [],
   "source": [
    "count_nb_pipeline = Pipeline([\n",
    "    ('vectorizer', cnt_vectorizer),\n",
    "    ('classifier', nb_count_model)\n",
    "])"
   ]
  },
  {
   "cell_type": "code",
   "execution_count": 49,
   "metadata": {},
   "outputs": [
    {
     "name": "stdout",
     "output_type": "stream",
     "text": [
      "              negative    neutral     positive\n",
      "precision: [0.72156863 0.82124646 0.71229698]\n",
      "recall:    [0.31669535 0.93940376 0.55919854]\n",
      "f1 score:  [0.44019139 0.87636034 0.62653061]\n",
      "--------------------------------------------------\n",
      "              negative    neutral     positive\n",
      "precision: [0.82101167 0.82778091 0.71875   ]\n",
      "recall:    [0.36316695 0.95009721 0.54562044]\n",
      "f1 score:  [0.50357995 0.88473144 0.62033195]\n",
      "--------------------------------------------------\n",
      "              negative    neutral     positive\n",
      "precision: [0.72289157 0.82379994 0.65708419]\n",
      "recall:    [0.30981067 0.9287103  0.58394161]\n",
      "f1 score:  [0.43373494 0.873115   0.61835749]\n",
      "--------------------------------------------------\n",
      "              negative    neutral     positive\n",
      "precision: [0.81205674 0.84425754 0.71900826]\n",
      "recall:    [0.39482759 0.94329229 0.6350365 ]\n",
      "f1 score:  [0.53132251 0.89103153 0.6744186 ]\n",
      "--------------------------------------------------\n",
      "              negative    neutral     positive\n",
      "precision: [0.78151261 0.81892195 0.69082126]\n",
      "recall:    [0.32068966 0.94523655 0.52189781]\n",
      "f1 score:  [0.45476773 0.87755716 0.59459459]\n",
      "--------------------------------------------------\n",
      "avg. accuracy: 81.02% (+/- 1.05%)\n",
      "avg. precision: 76.62% (+/- 2.19%)\n",
      "avg. recall: 61.72% (+/- 2.16%)\n",
      "avg. f1 score: 66.00% (+/- 2.19%)\n"
     ]
    }
   ],
   "source": [
    "find_accuracy(5, all_train.clean_text, all_train.polarity, count_nb_pipeline, 'macro')"
   ]
  },
  {
   "cell_type": "code",
   "execution_count": 50,
   "metadata": {},
   "outputs": [],
   "source": [
    "count_gb_pipeline = Pipeline([\n",
    "    ('vectorizer', cnt_vectorizer),\n",
    "    ('classifier', gb_count_model)\n",
    "])"
   ]
  },
  {
   "cell_type": "code",
   "execution_count": 51,
   "metadata": {},
   "outputs": [
    {
     "name": "stdout",
     "output_type": "stream",
     "text": [
      "              negative    neutral     positive\n",
      "precision: [0.83333333 0.79661017 0.96624473]\n",
      "recall:    [0.20654045 0.98995463 0.41712204]\n",
      "f1 score:  [0.33103448 0.8828204  0.5826972 ]\n",
      "--------------------------------------------------\n",
      "              negative    neutral     positive\n",
      "precision: [0.79104478 0.79452412 0.95528455]\n",
      "recall:    [0.18244406 0.98736228 0.42883212]\n",
      "f1 score:  [0.2965035  0.8805086  0.59193955]\n",
      "--------------------------------------------------\n",
      "              negative    neutral     positive\n",
      "precision: [0.78321678 0.79581152 0.93253968]\n",
      "recall:    [0.19277108 0.98509397 0.42883212]\n",
      "f1 score:  [0.30939227 0.88039386 0.5875    ]\n",
      "--------------------------------------------------\n",
      "              negative    neutral     positive\n",
      "precision: [0.80921053 0.79686275 0.95780591]\n",
      "recall:    [0.21206897 0.98768633 0.41423358]\n",
      "f1 score:  [0.33606557 0.88207206 0.57834395]\n",
      "--------------------------------------------------\n",
      "              negative    neutral     positive\n",
      "precision: [0.80136986 0.79268293 0.98598131]\n",
      "recall:    [0.20172414 0.98995463 0.3850365 ]\n",
      "f1 score:  [0.32231405 0.88040346 0.55380577]\n",
      "--------------------------------------------------\n",
      "avg. accuracy: 80.48% (+/- 0.18%)\n",
      "avg. precision: 85.28% (+/- 0.99%)\n",
      "avg. recall: 53.40% (+/- 0.46%)\n",
      "avg. f1 score: 59.31% (+/- 0.52%)\n"
     ]
    }
   ],
   "source": [
    "find_accuracy(5, all_train.clean_text, all_train.polarity, count_gb_pipeline, 'macro')"
   ]
  },
  {
   "cell_type": "code",
   "execution_count": 52,
   "metadata": {},
   "outputs": [],
   "source": [
    "count_rf_pipeline = Pipeline([\n",
    "    ('vectorizer', cnt_vectorizer),\n",
    "    ('classifier', rf_count_model)\n",
    "])"
   ]
  },
  {
   "cell_type": "code",
   "execution_count": 53,
   "metadata": {},
   "outputs": [
    {
     "name": "stdout",
     "output_type": "stream",
     "text": [
      "              negative    neutral     positive\n",
      "precision: [0.80298507 0.84966025 0.93696275]\n",
      "recall:    [0.46299484 0.97245625 0.59562842]\n",
      "f1 score:  [0.58733624 0.90692052 0.72828508]\n",
      "--------------------------------------------------\n",
      "              negative    neutral     positive\n",
      "precision: [0.8031746  0.8396861  0.90662651]\n",
      "recall:    [0.43545611 0.97083603 0.54927007]\n",
      "f1 score:  [0.56473214 0.90051097 0.68409091]\n",
      "--------------------------------------------------\n",
      "              negative    neutral     positive\n",
      "precision: [0.80864198 0.84611048 0.92419825]\n",
      "recall:    [0.45094664 0.9727803  0.57846715]\n",
      "f1 score:  [0.57900552 0.90503467 0.71156004]\n",
      "--------------------------------------------------\n",
      "              negative    neutral     positive\n",
      "precision: [0.82991202 0.85381777 0.94      ]\n",
      "recall:    [0.48793103 0.97472456 0.60036496]\n",
      "f1 score:  [0.6145494  0.91027387 0.73273942]\n",
      "--------------------------------------------------\n",
      "              negative    neutral     positive\n",
      "precision: [0.83544304 0.84413408 0.9591195 ]\n",
      "recall:    [0.45517241 0.97926118 0.55656934]\n",
      "f1 score:  [0.58928571 0.90669067 0.70438799]\n",
      "--------------------------------------------------\n",
      "avg. accuracy: 85.12% (+/- 0.55%)\n",
      "avg. precision: 86.54% (+/- 1.06%)\n",
      "avg. recall: 66.95% (+/- 1.21%)\n",
      "avg. f1 score: 73.50% (+/- 1.18%)\n"
     ]
    }
   ],
   "source": [
    "find_accuracy(5, all_train.clean_text, all_train.polarity, count_rf_pipeline, 'macro')"
   ]
  },
  {
   "cell_type": "code",
   "execution_count": null,
   "metadata": {},
   "outputs": [],
   "source": [
    "#Check model score with TFIDF vectorizer"
   ]
  },
  {
   "cell_type": "code",
   "execution_count": 54,
   "metadata": {},
   "outputs": [],
   "source": [
    "tfidf_lr_pipeline = Pipeline([\n",
    "    ('vectorizer', tfidf_vectorizer),\n",
    "    ('classifier', log_tfidf_model)\n",
    "])"
   ]
  },
  {
   "cell_type": "code",
   "execution_count": 55,
   "metadata": {},
   "outputs": [
    {
     "name": "stdout",
     "output_type": "stream",
     "text": [
      "              negative    neutral     positive\n",
      "precision: [0.83933518 0.87588028 0.89485459]\n",
      "recall:    [0.52151463 0.96727155 0.72859745]\n",
      "f1 score:  [0.6433121  0.91931013 0.80321285]\n",
      "--------------------------------------------------\n",
      "              negative    neutral     positive\n",
      "precision: [0.81648936 0.86950147 0.86946387]\n",
      "recall:    [0.52839931 0.96079067 0.68065693]\n",
      "f1 score:  [0.6415883  0.91286946 0.76356192]\n",
      "--------------------------------------------------\n",
      "              negative    neutral     positive\n",
      "precision: [0.78186275 0.87953251 0.86170213]\n",
      "recall:    [0.54905336 0.95106935 0.73905109]\n",
      "f1 score:  [0.64509606 0.91390316 0.7956778 ]\n",
      "--------------------------------------------------\n",
      "              negative    neutral     positive\n",
      "precision: [0.84657534 0.86375395 0.92972973]\n",
      "recall:    [0.53275862 0.97375243 0.62773723]\n",
      "f1 score:  [0.65396825 0.91546078 0.74945534]\n",
      "--------------------------------------------------\n",
      "              negative    neutral     positive\n",
      "precision: [0.83238636 0.87007643 0.84782609]\n",
      "recall:    [0.50517241 0.95917045 0.71167883]\n",
      "f1 score:  [0.62875536 0.91245376 0.77380952]\n",
      "--------------------------------------------------\n",
      "avg. accuracy: 86.80% (+/- 0.37%)\n",
      "avg. precision: 85.86% (+/- 1.43%)\n",
      "avg. recall: 72.91% (+/- 1.23%)\n",
      "avg. f1 score: 77.82% (+/- 0.71%)\n"
     ]
    }
   ],
   "source": [
    "find_accuracy(5, all_train.clean_text, all_train.polarity, tfidf_lr_pipeline, 'macro')"
   ]
  },
  {
   "cell_type": "code",
   "execution_count": 56,
   "metadata": {},
   "outputs": [],
   "source": [
    "tfidf_svc_pipeline = Pipeline([\n",
    "    ('vectorizer', tfidf_vectorizer),\n",
    "    ('classifier', svc_tfidf_model)\n",
    "])"
   ]
  },
  {
   "cell_type": "code",
   "execution_count": 57,
   "metadata": {},
   "outputs": [
    {
     "name": "stdout",
     "output_type": "stream",
     "text": [
      "              negative    neutral     positive\n",
      "precision: [0.8102981  0.87268994 0.89726027]\n",
      "recall:    [0.51462995 0.96403111 0.71584699]\n",
      "f1 score:  [0.62947368 0.9160893  0.79635258]\n",
      "--------------------------------------------------\n",
      "              negative    neutral     positive\n",
      "precision: [0.80989583 0.87433314 0.85776805]\n",
      "recall:    [0.53528399 0.95593001 0.71532847]\n",
      "f1 score:  [0.64455959 0.91331269 0.7800995 ]\n",
      "--------------------------------------------------\n",
      "              negative    neutral     positive\n",
      "precision: [0.79840849 0.87418398 0.86111111]\n",
      "recall:    [0.51807229 0.95463383 0.73540146]\n",
      "f1 score:  [0.62839248 0.91263941 0.79330709]\n",
      "--------------------------------------------------\n",
      "              negative    neutral     positive\n",
      "precision: [0.80729167 0.87985655 0.8553719 ]\n",
      "recall:    [0.53448276 0.95398574 0.75547445]\n",
      "f1 score:  [0.64315353 0.91542289 0.80232558]\n",
      "--------------------------------------------------\n",
      "              negative    neutral     positive\n",
      "precision: [0.79564033 0.86892489 0.86283186]\n",
      "recall:    [0.50344828 0.95593001 0.71167883]\n",
      "f1 score:  [0.61668427 0.91035334 0.78      ]\n",
      "--------------------------------------------------\n",
      "avg. accuracy: 86.69% (+/- 0.31%)\n",
      "avg. precision: 84.84% (+/- 0.61%)\n",
      "avg. recall: 73.49% (+/- 0.79%)\n",
      "avg. f1 score: 77.88% (+/- 0.58%)\n"
     ]
    }
   ],
   "source": [
    "find_accuracy(5, all_train.clean_text, all_train.polarity, tfidf_svc_pipeline, 'macro')"
   ]
  },
  {
   "cell_type": "code",
   "execution_count": 58,
   "metadata": {},
   "outputs": [],
   "source": [
    "tfidf_nb_pipeline = Pipeline([\n",
    "    ('vectorizer', tfidf_vectorizer),\n",
    "    ('classifier', nb_tfidf_model)\n",
    "])"
   ]
  },
  {
   "cell_type": "code",
   "execution_count": 59,
   "metadata": {},
   "outputs": [
    {
     "name": "stdout",
     "output_type": "stream",
     "text": [
      "              negative    neutral     positive\n",
      "precision: [0.96774194 0.74914925 0.95774648]\n",
      "recall:    [0.05163511 0.99870382 0.12386157]\n",
      "f1 score:  [0.09803922 0.85611111 0.21935484]\n",
      "--------------------------------------------------\n",
      "              negative    neutral     positive\n",
      "precision: [1.         0.75115656 0.98630137]\n",
      "recall:    [0.06024096 0.99967596 0.13138686]\n",
      "f1 score:  [0.11363636 0.8577784  0.23188406]\n",
      "--------------------------------------------------\n",
      "              negative    neutral     positive\n",
      "precision: [1.         0.75085241 0.9625    ]\n",
      "recall:    [0.04991394 0.99902787 0.14051095]\n",
      "f1 score:  [0.09508197 0.85734149 0.24522293]\n",
      "--------------------------------------------------\n",
      "              negative    neutral     positive\n",
      "precision: [1.         0.75378603 1.        ]\n",
      "recall:    [0.05862069 1.         0.15693431]\n",
      "f1 score:  [0.11074919 0.85961003 0.27129338]\n",
      "--------------------------------------------------\n",
      "              negative    neutral     positive\n",
      "precision: [0.97297297 0.75274591 0.9875    ]\n",
      "recall:    [0.06206897 0.99935191 0.14416058]\n",
      "f1 score:  [0.11669368 0.85869414 0.25159236]\n",
      "--------------------------------------------------\n",
      "avg. accuracy: 75.76% (+/- 0.22%)\n",
      "avg. precision: 90.62% (+/- 0.89%)\n",
      "avg. recall: 39.84% (+/- 0.47%)\n",
      "avg. f1 score: 40.29% (+/- 0.79%)\n"
     ]
    }
   ],
   "source": [
    "find_accuracy(5, all_train.clean_text, all_train.polarity, tfidf_nb_pipeline, 'macro')"
   ]
  },
  {
   "cell_type": "code",
   "execution_count": 60,
   "metadata": {},
   "outputs": [],
   "source": [
    "tfidf_gb_pipeline = Pipeline([\n",
    "    ('vectorizer', tfidf_vectorizer),\n",
    "    ('classifier', gb_tfidf_model)\n",
    "])"
   ]
  },
  {
   "cell_type": "code",
   "execution_count": 61,
   "metadata": {},
   "outputs": [
    {
     "name": "stdout",
     "output_type": "stream",
     "text": [
      "              negative    neutral     positive\n",
      "precision: [0.84496124 0.79677335 0.97131148]\n",
      "recall:    [0.18760757 0.99222294 0.43169399]\n",
      "f1 score:  [0.30704225 0.88382162 0.59773014]\n",
      "--------------------------------------------------\n",
      "              negative    neutral     positive\n",
      "precision: [0.824      0.79350649 0.9625    ]\n",
      "recall:    [0.17728055 0.98995463 0.42153285]\n",
      "f1 score:  [0.2917847  0.88091119 0.58629442]\n",
      "--------------------------------------------------\n",
      "              negative    neutral     positive\n",
      "precision: [0.80392157 0.79868594 0.92217899]\n",
      "recall:    [0.21170396 0.98476993 0.43248175]\n",
      "f1 score:  [0.33514986 0.88202003 0.58881988]\n",
      "--------------------------------------------------\n",
      "              negative    neutral     positive\n",
      "precision: [0.77631579 0.79779701 0.95582329]\n",
      "recall:    [0.20344828 0.98574206 0.43430657]\n",
      "f1 score:  [0.32240437 0.88186694 0.59723965]\n",
      "--------------------------------------------------\n",
      "              negative    neutral     positive\n",
      "precision: [0.81751825 0.79228179 0.98611111]\n",
      "recall:    [0.19310345 0.99125081 0.38868613]\n",
      "f1 score:  [0.31241283 0.88066791 0.55759162]\n",
      "--------------------------------------------------\n",
      "avg. accuracy: 80.56% (+/- 0.19%)\n",
      "avg. precision: 85.62% (+/- 1.18%)\n",
      "avg. recall: 53.51% (+/- 0.71%)\n",
      "avg. f1 score: 59.37% (+/- 0.75%)\n"
     ]
    }
   ],
   "source": [
    "find_accuracy(5, all_train.clean_text, all_train.polarity, tfidf_gb_pipeline, 'macro')"
   ]
  },
  {
   "cell_type": "code",
   "execution_count": 62,
   "metadata": {},
   "outputs": [],
   "source": [
    "tfidf_rf_pipeline = Pipeline([\n",
    "    ('vectorizer', tfidf_vectorizer),\n",
    "    ('classifier', rf_tfidf_model)\n",
    "])"
   ]
  },
  {
   "cell_type": "code",
   "execution_count": 63,
   "metadata": {},
   "outputs": [
    {
     "name": "stdout",
     "output_type": "stream",
     "text": [
      "              negative    neutral     positive\n",
      "precision: [0.82246377 0.83365464 0.9579288 ]\n",
      "recall:    [0.39070568 0.9808814  0.53916211]\n",
      "f1 score:  [0.52975496 0.90129522 0.68997669]\n",
      "--------------------------------------------------\n",
      "              negative    neutral     positive\n",
      "precision: [0.79738562 0.83578772 0.93548387]\n",
      "recall:    [0.41996558 0.97472456 0.52919708]\n",
      "f1 score:  [0.55016911 0.89992521 0.67599068]\n",
      "--------------------------------------------------\n",
      "              negative    neutral     positive\n",
      "precision: [0.81612903 0.84335664 0.95454545]\n",
      "recall:    [0.43545611 0.97699287 0.57481752]\n",
      "f1 score:  [0.56790123 0.90526948 0.71753986]\n",
      "--------------------------------------------------\n",
      "              negative    neutral     positive\n",
      "precision: [0.78963415 0.84206105 0.96507937]\n",
      "recall:    [0.44655172 0.97440052 0.55474453]\n",
      "f1 score:  [0.57048458 0.90340994 0.70451912]\n",
      "--------------------------------------------------\n",
      "              negative    neutral     positive\n",
      "precision: [0.83206107 0.82719083 0.95155709]\n",
      "recall:    [0.37586207 0.98185353 0.50182482]\n",
      "f1 score:  [0.51781473 0.8979108  0.65710872]\n",
      "--------------------------------------------------\n",
      "avg. accuracy: 84.31% (+/- 0.50%)\n",
      "avg. precision: 86.70% (+/- 0.58%)\n",
      "avg. recall: 64.38% (+/- 1.54%)\n",
      "avg. f1 score: 71.26% (+/- 1.42%)\n"
     ]
    }
   ],
   "source": [
    "find_accuracy(5, all_train.clean_text, all_train.polarity, tfidf_rf_pipeline, 'macro')"
   ]
  },
  {
   "cell_type": "code",
   "execution_count": 64,
   "metadata": {},
   "outputs": [],
   "source": [
    "#Check accuracy score after applying over sampling with logistic regression classifier"
   ]
  },
  {
   "cell_type": "code",
   "execution_count": 65,
   "metadata": {},
   "outputs": [
    {
     "name": "stdout",
     "output_type": "stream",
     "text": [
      "              negative    neutral     positive\n",
      "precision: [0.7405303  0.89741935 0.70578231]\n",
      "recall:    [0.67297762 0.9014906  0.75591985]\n",
      "f1 score:  [0.70513977 0.89945037 0.7299912 ]\n",
      "--------------------------------------------------\n",
      "              negative    neutral     positive\n",
      "precision: [0.77358491 0.9097769  0.68759812]\n",
      "recall:    [0.70567986 0.89857421 0.79927007]\n",
      "f1 score:  [0.73807381 0.90414085 0.73924051]\n",
      "--------------------------------------------------\n",
      "              negative    neutral     positive\n",
      "precision: [0.74705882 0.90223373 0.71103896]\n",
      "recall:    [0.65576592 0.90311082 0.79927007]\n",
      "f1 score:  [0.6984418  0.90267206 0.75257732]\n",
      "--------------------------------------------------\n",
      "              negative    neutral     positive\n",
      "precision: [0.72242647 0.91195795 0.73801917]\n",
      "recall:    [0.67758621 0.89954634 0.84306569]\n",
      "f1 score:  [0.69928826 0.90570962 0.78705281]\n",
      "--------------------------------------------------\n",
      "              negative    neutral     positive\n",
      "precision: [0.72201493 0.90016207 0.70657673]\n",
      "recall:    [0.66724138 0.89987038 0.76459854]\n",
      "f1 score:  [0.69354839 0.9000162  0.73444347]\n",
      "--------------------------------------------------\n",
      "avg. accuracy: 85.55% (+/- 0.44%)\n",
      "avg. precision: 78.51% (+/- 0.56%)\n",
      "avg. recall: 78.96% (+/- 1.23%)\n",
      "avg. f1 score: 78.60% (+/- 0.84%)\n"
     ]
    }
   ],
   "source": [
    "find_accuracy(5, all_train.clean_text, all_train.polarity, ROS_pl, 'macro')"
   ]
  },
  {
   "cell_type": "code",
   "execution_count": 66,
   "metadata": {},
   "outputs": [
    {
     "name": "stdout",
     "output_type": "stream",
     "text": [
      "              negative    neutral     positive\n",
      "precision: [0.70774648 0.90215264 0.7233677 ]\n",
      "recall:    [0.6919105  0.8963059  0.76684882]\n",
      "f1 score:  [0.6997389  0.89921977 0.74447392]\n",
      "--------------------------------------------------\n",
      "              negative    neutral     positive\n",
      "precision: [0.72280702 0.91117764 0.69014085]\n",
      "recall:    [0.7091222  0.88755671 0.80474453]\n",
      "f1 score:  [0.71589922 0.89921208 0.74304971]\n",
      "--------------------------------------------------\n",
      "              negative    neutral     positive\n",
      "precision: [0.74505929 0.89996763 0.7016129 ]\n",
      "recall:    [0.64888124 0.90084251 0.79379562]\n",
      "f1 score:  [0.69365225 0.90040486 0.74486301]\n",
      "--------------------------------------------------\n",
      "              negative    neutral     positive\n",
      "precision: [0.70331588 0.9153051  0.7258567 ]\n",
      "recall:    [0.69482759 0.88950097 0.85036496]\n",
      "f1 score:  [0.69904597 0.90221857 0.78319328]\n",
      "--------------------------------------------------\n",
      "              negative    neutral     positive\n",
      "precision: [0.71992819 0.90479296 0.72033898]\n",
      "recall:    [0.69137931 0.89922229 0.77554745]\n",
      "f1 score:  [0.705365   0.90199902 0.74692443]\n",
      "--------------------------------------------------\n",
      "avg. accuracy: 85.36% (+/- 0.23%)\n",
      "avg. precision: 77.96% (+/- 0.29%)\n",
      "avg. recall: 79.34% (+/- 1.12%)\n",
      "avg. f1 score: 78.53% (+/- 0.53%)\n"
     ]
    }
   ],
   "source": [
    "find_accuracy(5, all_train.clean_text, all_train.polarity, SMOTE_pl, 'macro')"
   ]
  },
  {
   "cell_type": "code",
   "execution_count": 67,
   "metadata": {},
   "outputs": [
    {
     "name": "stdout",
     "output_type": "stream",
     "text": [
      "              negative    neutral     positive\n",
      "precision: [0.83802817 0.89687796 0.71243942]\n",
      "recall:    [0.61445783 0.92158134 0.80327869]\n",
      "f1 score:  [0.70903674 0.90906185 0.75513699]\n",
      "--------------------------------------------------\n",
      "              negative    neutral     positive\n",
      "precision: [0.80973451 0.90636099 0.6996997 ]\n",
      "recall:    [0.62994836 0.9095917  0.85036496]\n",
      "f1 score:  [0.70861568 0.90797348 0.76771005]\n",
      "--------------------------------------------------\n",
      "              negative    neutral     positive\n",
      "precision: [0.81755196 0.90439771 0.72826087]\n",
      "recall:    [0.60929432 0.91963707 0.85583942]\n",
      "f1 score:  [0.69822485 0.91195373 0.78691275]\n",
      "--------------------------------------------------\n",
      "              negative    neutral     positive\n",
      "precision: [0.81192661 0.90580645 0.70648968]\n",
      "recall:    [0.61034483 0.90991575 0.87408759]\n",
      "f1 score:  [0.69685039 0.90785645 0.78140294]\n",
      "--------------------------------------------------\n",
      "              negative    neutral     positive\n",
      "precision: [0.82535885 0.89495268 0.70766773]\n",
      "recall:    [0.59482759 0.91931303 0.80839416]\n",
      "f1 score:  [0.69138277 0.90696931 0.75468484]\n",
      "--------------------------------------------------\n",
      "avg. accuracy: 86.40% (+/- 0.27%)\n",
      "avg. precision: 81.10% (+/- 0.45%)\n",
      "avg. recall: 78.87% (+/- 0.98%)\n",
      "avg. f1 score: 79.29% (+/- 0.50%)\n"
     ]
    }
   ],
   "source": [
    "find_accuracy(5, all_train.clean_text, all_train.polarity, ADASYN_pl, 'macro')"
   ]
  },
  {
   "cell_type": "code",
   "execution_count": 68,
   "metadata": {},
   "outputs": [],
   "source": [
    "#Check accuracy score after applying over sampling with Linear SVC classifier"
   ]
  },
  {
   "cell_type": "code",
   "execution_count": 69,
   "metadata": {},
   "outputs": [],
   "source": [
    "ROS_pl_svc = make_pipeline(cnt_vectorizer, RandomOverSampler(random_state=777),svc_count_model)\n",
    "SMOTE_pl_svc = make_pipeline(cnt_vectorizer, SMOTE(random_state=777),svc_count_model)\n",
    "ADASYN_pl_svc = make_pipeline(cnt_vectorizer, ADASYN(ratio='minority',random_state=777),svc_count_model)"
   ]
  },
  {
   "cell_type": "code",
   "execution_count": 70,
   "metadata": {},
   "outputs": [
    {
     "name": "stdout",
     "output_type": "stream",
     "text": [
      "              negative    neutral     positive\n",
      "precision: [0.74169742 0.90497592 0.76028623]\n",
      "recall:    [0.6919105  0.91348023 0.77413479]\n",
      "f1 score:  [0.71593945 0.90920819 0.76714801]\n",
      "--------------------------------------------------\n",
      "              negative    neutral     positive\n",
      "precision: [0.74460432 0.91145833 0.74787053]\n",
      "recall:    [0.71256454 0.9073234  0.80109489]\n",
      "f1 score:  [0.72823219 0.90938616 0.77356828]\n",
      "--------------------------------------------------\n",
      "              negative    neutral     positive\n",
      "precision: [0.74716981 0.90812379 0.75986278]\n",
      "recall:    [0.68158348 0.91283215 0.80839416]\n",
      "f1 score:  [0.71287129 0.91047188 0.78337754]\n",
      "--------------------------------------------------\n",
      "              negative    neutral     positive\n",
      "precision: [0.74205607 0.91397849 0.7557377 ]\n",
      "recall:    [0.68448276 0.90894362 0.84124088]\n",
      "f1 score:  [0.71210762 0.9114541  0.79620035]\n",
      "--------------------------------------------------\n",
      "              negative    neutral     positive\n",
      "precision: [0.75337187 0.90433673 0.76028623]\n",
      "recall:    [0.67413793 0.91898898 0.77554745]\n",
      "f1 score:  [0.71155596 0.91160399 0.76784101]\n",
      "--------------------------------------------------\n",
      "avg. accuracy: 86.69% (+/- 0.14%)\n",
      "avg. precision: 80.37% (+/- 0.17%)\n",
      "avg. recall: 80.04% (+/- 0.82%)\n",
      "avg. f1 score: 80.14% (+/- 0.37%)\n"
     ]
    }
   ],
   "source": [
    "find_accuracy(5, all_train.clean_text, all_train.polarity, ROS_pl_svc, 'macro')"
   ]
  },
  {
   "cell_type": "code",
   "execution_count": 71,
   "metadata": {},
   "outputs": [
    {
     "name": "stdout",
     "output_type": "stream",
     "text": [
      "              negative    neutral     positive\n",
      "precision: [0.7155477  0.90432503 0.71070234]\n",
      "recall:    [0.69707401 0.89436163 0.77413479]\n",
      "f1 score:  [0.70619006 0.89931574 0.74106364]\n",
      "--------------------------------------------------\n",
      "              negative    neutral     positive\n",
      "precision: [0.72473868 0.91146007 0.67592593]\n",
      "recall:    [0.71600688 0.88399222 0.79927007]\n",
      "f1 score:  [0.72034632 0.89751604 0.73244147]\n",
      "--------------------------------------------------\n",
      "              negative    neutral     positive\n",
      "precision: [0.7495183  0.90805718 0.72815534]\n",
      "recall:    [0.66953528 0.90570318 0.82116788]\n",
      "f1 score:  [0.70727273 0.90687865 0.77186964]\n",
      "--------------------------------------------------\n",
      "              negative    neutral     positive\n",
      "precision: [0.70826011 0.9148012  0.7101227 ]\n",
      "recall:    [0.69482759 0.88723266 0.84489051]\n",
      "f1 score:  [0.70147955 0.90080605 0.77166667]\n",
      "--------------------------------------------------\n",
      "              negative    neutral     positive\n",
      "precision: [0.71813285 0.90286832 0.71137521]\n",
      "recall:    [0.68965517 0.89760207 0.76459854]\n",
      "f1 score:  [0.70360598 0.90022749 0.73702726]\n",
      "--------------------------------------------------\n",
      "avg. accuracy: 85.41% (+/- 0.44%)\n",
      "avg. precision: 77.96% (+/- 0.82%)\n",
      "avg. recall: 79.60% (+/- 0.88%)\n",
      "avg. f1 score: 78.65% (+/- 0.58%)\n"
     ]
    }
   ],
   "source": [
    "find_accuracy(5, all_train.clean_text, all_train.polarity, SMOTE_pl_svc, 'macro')"
   ]
  },
  {
   "cell_type": "code",
   "execution_count": 72,
   "metadata": {},
   "outputs": [
    {
     "name": "stdout",
     "output_type": "stream",
     "text": [
      "              negative    neutral     positive\n",
      "precision: [0.78205128 0.89589303 0.70840198]\n",
      "recall:    [0.62994836 0.91186001 0.78324226]\n",
      "f1 score:  [0.69780744 0.90380601 0.74394464]\n",
      "--------------------------------------------------\n",
      "              negative    neutral     positive\n",
      "precision: [0.7761807  0.90319426 0.67424242]\n",
      "recall:    [0.65060241 0.89792612 0.8120438 ]\n",
      "f1 score:  [0.70786517 0.90055249 0.73675497]\n",
      "--------------------------------------------------\n",
      "              negative    neutral     positive\n",
      "precision: [0.77412281 0.89635317 0.70300158]\n",
      "recall:    [0.60757315 0.90797148 0.8120438 ]\n",
      "f1 score:  [0.68081003 0.90212492 0.75359865]\n",
      "--------------------------------------------------\n",
      "              negative    neutral     positive\n",
      "precision: [0.76875    0.90693134 0.7065053 ]\n",
      "recall:    [0.6362069  0.90311082 0.85218978]\n",
      "f1 score:  [0.69622642 0.90501705 0.77253929]\n",
      "--------------------------------------------------\n",
      "              negative    neutral     positive\n",
      "precision: [0.80487805 0.89446917 0.6904376 ]\n",
      "recall:    [0.62586207 0.91186001 0.77737226]\n",
      "f1 score:  [0.70417071 0.90308087 0.73133047]\n",
      "--------------------------------------------------\n",
      "avg. accuracy: 85.56% (+/- 0.24%)\n",
      "avg. precision: 79.24% (+/- 0.43%)\n",
      "avg. recall: 78.13% (+/- 0.94%)\n",
      "avg. f1 score: 78.26% (+/- 0.45%)\n"
     ]
    }
   ],
   "source": [
    "find_accuracy(5, all_train.clean_text, all_train.polarity, ADASYN_pl_svc, 'macro')"
   ]
  },
  {
   "cell_type": "code",
   "execution_count": 73,
   "metadata": {},
   "outputs": [
    {
     "data": {
      "text/html": [
       "<div>\n",
       "<style scoped>\n",
       "    .dataframe tbody tr th:only-of-type {\n",
       "        vertical-align: middle;\n",
       "    }\n",
       "\n",
       "    .dataframe tbody tr th {\n",
       "        vertical-align: top;\n",
       "    }\n",
       "\n",
       "    .dataframe thead th {\n",
       "        text-align: right;\n",
       "    }\n",
       "</style>\n",
       "<table border=\"1\" class=\"dataframe\">\n",
       "  <thead>\n",
       "    <tr style=\"text-align: right;\">\n",
       "      <th></th>\n",
       "      <th>label</th>\n",
       "      <th>score</th>\n",
       "    </tr>\n",
       "  </thead>\n",
       "  <tbody>\n",
       "    <tr>\n",
       "      <th>0</th>\n",
       "      <td>log_count_score</td>\n",
       "      <td>0.883126</td>\n",
       "    </tr>\n",
       "    <tr>\n",
       "      <th>1</th>\n",
       "      <td>svc_count_score</td>\n",
       "      <td>0.878998</td>\n",
       "    </tr>\n",
       "    <tr>\n",
       "      <th>4</th>\n",
       "      <td>rf_count_score</td>\n",
       "      <td>0.852899</td>\n",
       "    </tr>\n",
       "    <tr>\n",
       "      <th>5</th>\n",
       "      <td>log_tfidf_score</td>\n",
       "      <td>0.850668</td>\n",
       "    </tr>\n",
       "    <tr>\n",
       "      <th>6</th>\n",
       "      <td>svc_tfidf_score</td>\n",
       "      <td>0.848533</td>\n",
       "    </tr>\n",
       "    <tr>\n",
       "      <th>9</th>\n",
       "      <td>rf_tfidf_score</td>\n",
       "      <td>0.844073</td>\n",
       "    </tr>\n",
       "    <tr>\n",
       "      <th>8</th>\n",
       "      <td>gb_tfidf_score</td>\n",
       "      <td>0.804973</td>\n",
       "    </tr>\n",
       "    <tr>\n",
       "      <th>3</th>\n",
       "      <td>gb_count_score</td>\n",
       "      <td>0.804451</td>\n",
       "    </tr>\n",
       "    <tr>\n",
       "      <th>2</th>\n",
       "      <td>nb_count_score</td>\n",
       "      <td>0.790642</td>\n",
       "    </tr>\n",
       "    <tr>\n",
       "      <th>7</th>\n",
       "      <td>nb_tfidf_score</td>\n",
       "      <td>0.757805</td>\n",
       "    </tr>\n",
       "  </tbody>\n",
       "</table>\n",
       "</div>"
      ],
      "text/plain": [
       "             label     score\n",
       "0  log_count_score  0.883126\n",
       "1  svc_count_score  0.878998\n",
       "4   rf_count_score  0.852899\n",
       "5  log_tfidf_score  0.850668\n",
       "6  svc_tfidf_score  0.848533\n",
       "9   rf_tfidf_score  0.844073\n",
       "8   gb_tfidf_score  0.804973\n",
       "3   gb_count_score  0.804451\n",
       "2   nb_count_score  0.790642\n",
       "7   nb_tfidf_score  0.757805"
      ]
     },
     "metadata": {},
     "output_type": "display_data"
    }
   ],
   "source": [
    "result = {\n",
    "    'label' : ['log_count_score' , 'svc_count_score',\n",
    "               'nb_count_score', 'gb_count_score',\n",
    "              'rf_count_score', 'log_tfidf_score',\n",
    "              'svc_tfidf_score', 'nb_tfidf_score',\n",
    "              'gb_tfidf_score', 'rf_tfidf_score',\n",
    "              ],\n",
    "    'score' : [log_count_score , svc_count_score,\n",
    "               nb_count_score, gb_count_score,\n",
    "              rf_count_score, log_tfidf_score,\n",
    "              svc_tfidf_score, nb_tfidf_score,\n",
    "              gb_tfidf_score, rf_tfidf_score]\n",
    "}\n",
    "\n",
    "df_result = pd.DataFrame(result)\n",
    "display(df_result.sort_values('score', ascending=False))"
   ]
  },
  {
   "cell_type": "code",
   "execution_count": 74,
   "metadata": {},
   "outputs": [
    {
     "data": {
      "image/png": "[encoded data removed]",
      "text/plain": [
       "<matplotlib.figure.Figure at 0x1ed00647860>"
      ]
     },
     "metadata": {},
     "output_type": "display_data"
    }
   ],
   "source": [
    "import  seaborn  as sns\n",
    "df_result = df_result.sort_values('score', ascending=False)\n",
    "f, ax = plt.subplots(figsize=(15, 6))\n",
    "sns.set_color_codes(\"pastel\")\n",
    "ax = sns.barplot(x='score', y='label', data=df_result, orient='h')\n",
    "sns.despine(left=True, bottom=True)"
   ]
  },
  {
   "cell_type": "code",
   "execution_count": 84,
   "metadata": {},
   "outputs": [],
   "source": [
    "selected_model = LinearSVC().fit(train_set_X, train_set_Y)"
   ]
  },
  {
   "cell_type": "code",
   "execution_count": 85,
   "metadata": {},
   "outputs": [],
   "source": [
    "def RetSenti(tweet):\n",
    "    cleaned_tweet =  tweet_cleaner(tweet)\n",
    "    X_test = cnt_vectorizer.transform(np.array([cleaned_tweet]))\n",
    "    if selected_model.predict(X_test)[0] == 1:\n",
    "        return Image(filename='positive.jpg', width = 100, height =70)\n",
    "    elif selected_model.predict(X_test)[0] == 2:\n",
    "        return Image(filename='neg.jpg', width = 100, height =70)\n",
    "    else:\n",
    "        return Image(filename='net.jpg', width = 100, height =70)"
   ]
  },
  {
   "cell_type": "code",
   "execution_count": 86,
   "metadata": {},
   "outputs": [
    {
     "data": {
      "image/jpeg": "[encoded data removed]",
      "text/plain": [
       "<IPython.core.display.Image object>"
      ]
     },
     "execution_count": 86,
     "metadata": {
      "image/jpeg": {
       "height": 70,
       "width": 100
      }
     },
     "output_type": "execute_result"
    }
   ],
   "source": [
    "RetSenti(\"the worst retail\")"
   ]
  },
  {
   "cell_type": "code",
   "execution_count": 87,
   "metadata": {},
   "outputs": [
    {
     "data": {
      "image/jpeg": "[encoded data removed]",
      "text/plain": [
       "<IPython.core.display.Image object>"
      ]
     },
     "execution_count": 87,
     "metadata": {
      "image/jpeg": {
       "height": 70,
       "width": 100
      }
     },
     "output_type": "execute_result"
    }
   ],
   "source": [
    "RetSenti(\"@CanadianTire please tell me I can pick up my new lawnmower with 1600cc<ed><U+00A0><U+00BE><ed><U+00B4><U+00A4>. I NEED THIS!! Ã‚Â“Que Tim the Toolman gruntÃ‚Â” https://t.co/8KWqX3frzf\")"
   ]
  },
  {
   "cell_type": "code",
   "execution_count": 88,
   "metadata": {},
   "outputs": [
    {
     "data": {
      "image/jpeg": "[encoded data removed]",
      "text/plain": [
       "<IPython.core.display.Image object>"
      ]
     },
     "execution_count": 88,
     "metadata": {
      "image/jpeg": {
       "height": 70,
       "width": 100
      }
     },
     "output_type": "execute_result"
    }
   ],
   "source": [
    "RetSenti(\"Thank you walmart\")"
   ]
  },
  {
   "cell_type": "code",
   "execution_count": 90,
   "metadata": {},
   "outputs": [
    {
     "data": {
      "image/jpeg": "[encoded data removed]",
      "text/plain": [
       "<IPython.core.display.Image object>"
      ]
     },
     "execution_count": 90,
     "metadata": {
      "image/jpeg": {
       "height": 70,
       "width": 100
      }
     },
     "output_type": "execute_result"
    }
   ],
   "source": [
    "RetSenti(\"@aflood2005 @CanadianTire @CBC That is happening everywhere now. All customers are treated like criminals because sÃ‚Â… https://t.co/oR8HjPShiF\")"
   ]
  },
  {
   "cell_type": "code",
   "execution_count": 91,
   "metadata": {},
   "outputs": [
    {
     "data": {
      "image/jpeg": "[encoded data removed]",
      "text/plain": [
       "<IPython.core.display.Image object>"
      ]
     },
     "execution_count": 91,
     "metadata": {
      "image/jpeg": {
       "height": 70,
       "width": 100
      }
     },
     "output_type": "execute_result"
    }
   ],
   "source": [
    "RetSenti(\"RT @pothen: (5/? ) What can we do quickly? Improve main Danforth  and Danforth Dawes intersection.  Extend #biketo down Dawes. @CanadianTirÃ‚Â…\")"
   ]
  },
  {
   "cell_type": "code",
   "execution_count": 92,
   "metadata": {},
   "outputs": [
    {
     "data": {
      "image/jpeg": "[encoded data removed]",
      "text/plain": [
       "<IPython.core.display.Image object>"
      ]
     },
     "execution_count": 92,
     "metadata": {
      "image/jpeg": {
       "height": 70,
       "width": 100
      }
     },
     "output_type": "execute_result"
    }
   ],
   "source": [
    "RetSenti(\"@cmcdavid97 @CanadianTire you r so inspiring to me\")"
   ]
  },
  {
   "cell_type": "code",
   "execution_count": null,
   "metadata": {},
   "outputs": [],
   "source": []
  }
 ],
 "metadata": {
  "kernelspec": {
   "display_name": "Python 3",
   "language": "python",
   "name": "python3"
  },
  "language_info": {
   "codemirror_mode": {
    "name": "ipython",
    "version": 3
   },
   "file_extension": ".py",
   "mimetype": "text/x-python",
   "name": "python",
   "nbconvert_exporter": "python",
   "pygments_lexer": "ipython3",
   "version": "3.6.4"
  }
 },
 "nbformat": 4,
 "nbformat_minor": 2
}
